{
 "cells": [
  {
   "cell_type": "markdown",
   "id": "0a14ca0d",
   "metadata": {},
   "source": [
    "# Deep Learning ISD"
   ]
  },
  {
   "cell_type": "markdown",
   "id": "4247dd90",
   "metadata": {},
   "source": [
    "## Auteurs\n",
    "\n",
    "| Nom  | Prénom | Courriel | Groupe | Github |\n",
    "| :-------------: | :-------------: | :-------------: | :-------------: | :-------------: |\n",
    "| AIT BELKACEM  | Moncef Karim  | moncef.ait-belkacem@universite-paris-saclay.fr  | LDDIM2  |<a href=\"https://github.com/MK8BK\">MK8BK</a>|\n",
    "| Tran--Guery | Thimoté | thimote.tran--guery@universite-paris-saclay.fr  | LDDIM2  |<a href=\"https://github.com/Thimote91\">Thimote91</a>|\n"
   ]
  },
  {
   "cell_type": "markdown",
   "id": "d9a29cb8",
   "metadata": {},
   "source": [
    "## Introduction\n",
    "Ceci est le projet final de l'UE <a href=\"https://nicolas.thiery.name/Enseignement/IntroScienceDonnees/\">Initiation à la Science des Données</a> offert en L1-S2 à l'Université Paris-Saclay.\n",
    "\n",
    "Il s'agit d'un classificateur de caractères hexadécimaux manuscrits en python.\n",
    "\n",
    "Plus précisément, c’est une implémentation d’un réseau neuronal, visant la prédiction de caractères manuscrits de `0-9/A-F` (16 classes),\n",
    "\n",
    "dans le data set `EMNIST`.\n",
    "\n",
    "On utilise pour cela le module de calcul numérique `numpy`, le module de visualisation `matplotlib` et le module de traitement d'image `PIL`.\n",
    "\n",
    "(En outre des modules suivants de la librairie standard python : `os`, `random`, `pickle`, `typing`)"
   ]
  },
  {
   "cell_type": "markdown",
   "id": "53dc2d92",
   "metadata": {},
   "source": [
    "## Aspects Théoriques "
   ]
  },
  {
   "cell_type": "markdown",
   "id": "30fc45ae",
   "metadata": {},
   "source": [
    "   "
   ]
  },
  {
   "cell_type": "markdown",
   "id": "8d8451ac",
   "metadata": {},
   "source": [
    "A completer ...\n"
   ]
  },
  {
   "cell_type": "markdown",
   "id": "cbc0baa9",
   "metadata": {},
   "source": [
    " "
   ]
  },
  {
   "cell_type": "markdown",
   "id": "6b0866da",
   "metadata": {},
   "source": [
    "## Détails de l'implémentation \n",
    "   "
   ]
  },
  {
   "cell_type": "markdown",
   "id": "a16e36e2",
   "metadata": {},
   "source": [
    "### Set de données\n",
    "\n",
    "On dispose de `38400` images, reparties en `16` classes, soit `2400` images par classe.\n",
    "\n",
    "Chaque image est au format `jpeg`.\n",
    "\n",
    "Ces fichiers sont dans le dossier `./EMNIST_DATA_SET/{classe de l'image}/{nom de l'image}.jpeg`.\n",
    "\n",
    "De plus chaque image contient sa classe en premier caractère.\n",
    "\n",
    "\n",
    "<img src=\"./EMNIST_DATA_SET/0/0_char_102479.jpeg\"  width=56 style=\"float: left\">\n",
    "<img src=\"./EMNIST_DATA_SET/1/1_char_16442.jpeg\"  width=56 style=\"float: left\">\n",
    "<img src=\"./EMNIST_DATA_SET/2/2_char_7136.jpeg\"  width=56 style=\"float: left\">\n",
    "<img src=\"./EMNIST_DATA_SET/3/3_char_55992.jpeg\"  width=56 style=\"float: left\">\n",
    "<img src=\"./EMNIST_DATA_SET/4/4_char_80661.jpeg\"  width=56 style=\"float: left\">\n",
    "<img src=\"./EMNIST_DATA_SET/5/5_char_73026.jpeg\"  width=56 style=\"float: left\">\n",
    "<img src=\"./EMNIST_DATA_SET/6/6_char_19045.jpeg\"  width=56 style=\"float: left\">\n",
    "<img src=\"./EMNIST_DATA_SET/7/7_char_107973.jpeg\"  width=56 style=\"float: left\">\n",
    "<img src=\"./EMNIST_DATA_SET/8/8_char_22810.jpeg\"  width=56 style=\"float: left\">\n",
    "<img src=\"./EMNIST_DATA_SET/9/9_char_110343.jpeg\"  width=56 style=\"float: left\">\n",
    "<img src=\"./EMNIST_DATA_SET/A/A_char_4502.jpeg\"  width=56 style=\"float: left\">\n",
    "<img src=\"./EMNIST_DATA_SET/B/B_char_9251.jpeg\"  width=56 style=\"float: left\">\n",
    "<img src=\"./EMNIST_DATA_SET/C/C_char_15156.jpeg\"  width=56 style=\"float: left\">\n",
    "<img src=\"./EMNIST_DATA_SET/D/D_char_35808.jpeg\"  width=56 style=\"float: left\">\n",
    "<img src=\"./EMNIST_DATA_SET/E/E_char_712.jpeg\"  width=56 style=\"float: left\">\n",
    "<img src=\"./EMNIST_DATA_SET/F/F_char_99118.jpeg\" width=56 style=\"float: left\">\n",
    "<br><br><br><br>\n",
    "\n",
    "Par exemple : `./EMNIST_DATA_SET/0/0_char_102479.jpeg` est le path vers la première image (celle du 0)"
   ]
  },
  {
   "cell_type": "markdown",
   "id": "fd0222f5",
   "metadata": {},
   "source": [
    "### Modularité\n",
    "\n",
    "Notre implémentation de Deep Learning se décompose en 6 fichiers situes dans le dossier `./src/` :\n",
    " - `LoadData.py`\n",
    " - `Functions.py`\n",
    " - `Layers.py`\n",
    " - `NeuralNetwork.py`\n",
    " - `Utilities.py`\n",
    "\n",
    "Importons ces six fichiers :"
   ]
  },
  {
   "cell_type": "code",
   "execution_count": 1,
   "id": "3b9b497c",
   "metadata": {},
   "outputs": [],
   "source": [
    "from src.LoadData import *\n",
    "from src.Functions import *\n",
    "from src.Layers import *\n",
    "from src.NeuralNetwork import *\n",
    "from src.Utilities import *"
   ]
  },
  {
   "cell_type": "markdown",
   "id": "73a0951d",
   "metadata": {},
   "source": [
    "Utilisons la fonction `show_source()` définie dans `./src/Utilities.py` afin d'observer en détails les objets qui seront manipulés par la suite."
   ]
  },
  {
   "cell_type": "markdown",
   "id": "cc922478",
   "metadata": {},
   "source": [
    "### `LoadData`"
   ]
  },
  {
   "cell_type": "code",
   "execution_count": 11,
   "id": "22a01946",
   "metadata": {},
   "outputs": [
    {
     "name": "stdout",
     "output_type": "stream",
     "text": [
      "['0', '1', '2', '3', '4', '5', '6', '7', '8', '9', 'A', 'B', 'C', 'D', 'E', 'F']\n"
     ]
    }
   ],
   "source": [
    "#Global list[str] of classes(single characters)\n",
    "print(CLASSES)"
   ]
  },
  {
   "cell_type": "code",
   "execution_count": 12,
   "id": "bb53f449",
   "metadata": {},
   "outputs": [
    {
     "name": "stdout",
     "output_type": "stream",
     "text": [
      "Help on function char_to_label in module src.LoadData:\n",
      "\n",
      "char_to_label(character: str) -> int\n",
      "    Convert the character representation of the class into its integer representation\n",
      "    @param: character: str , has to be in the global defined classes\n",
      "    @return: the integer representation of said character\n",
      "\n"
     ]
    }
   ],
   "source": [
    "help(char_to_label)"
   ]
  },
  {
   "cell_type": "code",
   "execution_count": 14,
   "id": "c2c359ab",
   "metadata": {},
   "outputs": [
    {
     "name": "stdout",
     "output_type": "stream",
     "text": [
      "Help on function label_to_char in module src.LoadData:\n",
      "\n",
      "label_to_char(label: int) -> str\n",
      "    Convert the integer representation of the class into its character representation\n",
      "    @param: label: int , has to be a valid index of the global defined classes\n",
      "    @return: the character representation of said integer\n",
      "\n"
     ]
    }
   ],
   "source": [
    "help(label_to_char)"
   ]
  },
  {
   "cell_type": "code",
   "execution_count": 16,
   "id": "0439a3bf",
   "metadata": {},
   "outputs": [
    {
     "name": "stdout",
     "output_type": "stream",
     "text": [
      "Help on function load_pil_image in module src.LoadData:\n",
      "\n",
      "load_pil_image(str_path: str) -> <module 'PIL.Image' from 'C:\\\\Users\\\\User\\\\AppData\\\\Local\\\\Programs\\\\Python\\\\Python39\\\\lib\\\\site-packages\\\\PIL\\\\Image.py'>\n",
      "    Returns a grayscale PIL image given the full relative str_path\n",
      "    @param: str_path: the full relative str_path to the image file\n",
      "    @return: im: a PIL Image object (single channel: grayscale)\n",
      "\n"
     ]
    }
   ],
   "source": [
    "help(load_pil_image)"
   ]
  },
  {
   "cell_type": "code",
   "execution_count": null,
   "id": "c304b845",
   "metadata": {},
   "outputs": [],
   "source": []
  },
  {
   "cell_type": "code",
   "execution_count": null,
   "id": "9c66ca56",
   "metadata": {},
   "outputs": [],
   "source": []
  },
  {
   "cell_type": "code",
   "execution_count": 18,
   "id": "6b4afc3a",
   "metadata": {},
   "outputs": [
    {
     "name": "stdout",
     "output_type": "stream",
     "text": [
      "def load_pil_image(str_path: str) -> Image:\n",
      "    \"\"\"\n",
      "        Returns a grayscale PIL image given the full relative str_path\n",
      "        @param: str_path: the full relative str_path to the image file\n",
      "        @return: im: a PIL Image object (single channel: grayscale)\n",
      "    \"\"\"\n",
      "    temp = Image.open(str_path)\n",
      "    if \"F\" in str_path:\n",
      "        im = temp.rotate(180)\n",
      "    else:\n",
      "        im = temp.rotate(270)\n",
      "    temp.close()\n",
      "    im = ImageOps.grayscale(im)\n",
      "    return im\n",
      "\n"
     ]
    }
   ],
   "source": [
    "print(inspect.getsource(load_pil_image))"
   ]
  },
  {
   "cell_type": "code",
   "execution_count": null,
   "id": "ad1d502e",
   "metadata": {},
   "outputs": [],
   "source": []
  },
  {
   "cell_type": "code",
   "execution_count": null,
   "id": "7039ada4",
   "metadata": {},
   "outputs": [],
   "source": []
  },
  {
   "cell_type": "code",
   "execution_count": null,
   "id": "647691c1",
   "metadata": {},
   "outputs": [],
   "source": []
  },
  {
   "cell_type": "code",
   "execution_count": null,
   "id": "fc91a9b0",
   "metadata": {},
   "outputs": [],
   "source": []
  },
  {
   "cell_type": "code",
   "execution_count": null,
   "id": "9ec77f65",
   "metadata": {},
   "outputs": [],
   "source": []
  },
  {
   "cell_type": "code",
   "execution_count": null,
   "id": "fbeb862e",
   "metadata": {},
   "outputs": [],
   "source": []
  },
  {
   "cell_type": "code",
   "execution_count": null,
   "id": "4721715a",
   "metadata": {},
   "outputs": [],
   "source": []
  },
  {
   "cell_type": "code",
   "execution_count": null,
   "id": "37f5e841",
   "metadata": {},
   "outputs": [],
   "source": []
  },
  {
   "cell_type": "code",
   "execution_count": null,
   "id": "ee12a3f1",
   "metadata": {},
   "outputs": [],
   "source": []
  },
  {
   "cell_type": "markdown",
   "id": "f20534d4",
   "metadata": {},
   "source": [
    "### `Functions`"
   ]
  },
  {
   "cell_type": "code",
   "execution_count": null,
   "id": "fc1e2356",
   "metadata": {},
   "outputs": [],
   "source": []
  },
  {
   "cell_type": "code",
   "execution_count": null,
   "id": "fe1baaa6",
   "metadata": {},
   "outputs": [],
   "source": []
  },
  {
   "cell_type": "code",
   "execution_count": null,
   "id": "b6741ade",
   "metadata": {},
   "outputs": [],
   "source": []
  },
  {
   "cell_type": "code",
   "execution_count": null,
   "id": "227fb013",
   "metadata": {},
   "outputs": [],
   "source": []
  },
  {
   "cell_type": "code",
   "execution_count": null,
   "id": "c074f7ef",
   "metadata": {},
   "outputs": [],
   "source": []
  },
  {
   "cell_type": "code",
   "execution_count": null,
   "id": "89d9a40c",
   "metadata": {},
   "outputs": [],
   "source": []
  },
  {
   "cell_type": "code",
   "execution_count": null,
   "id": "f265ed13",
   "metadata": {},
   "outputs": [],
   "source": []
  },
  {
   "cell_type": "code",
   "execution_count": null,
   "id": "01a7ba8f",
   "metadata": {},
   "outputs": [],
   "source": []
  },
  {
   "cell_type": "markdown",
   "id": "4514b31b",
   "metadata": {},
   "source": [
    "### `Layers`"
   ]
  },
  {
   "cell_type": "code",
   "execution_count": null,
   "id": "5891fa14",
   "metadata": {},
   "outputs": [],
   "source": []
  },
  {
   "cell_type": "code",
   "execution_count": null,
   "id": "a22e53f4",
   "metadata": {},
   "outputs": [],
   "source": []
  },
  {
   "cell_type": "code",
   "execution_count": null,
   "id": "f13a1b5e",
   "metadata": {},
   "outputs": [],
   "source": []
  },
  {
   "cell_type": "markdown",
   "id": "90e5d4a1",
   "metadata": {},
   "source": [
    "### `NeuralNetwork`"
   ]
  },
  {
   "cell_type": "code",
   "execution_count": null,
   "id": "daae2133",
   "metadata": {},
   "outputs": [],
   "source": []
  },
  {
   "cell_type": "markdown",
   "id": "c02ad317",
   "metadata": {},
   "source": [
    "### `Utilities`"
   ]
  },
  {
   "cell_type": "code",
   "execution_count": null,
   "id": "8cd515f2",
   "metadata": {},
   "outputs": [],
   "source": []
  },
  {
   "cell_type": "code",
   "execution_count": null,
   "id": "6ec9b257",
   "metadata": {},
   "outputs": [],
   "source": []
  },
  {
   "cell_type": "code",
   "execution_count": null,
   "id": "5cc7af6e",
   "metadata": {},
   "outputs": [],
   "source": []
  },
  {
   "cell_type": "markdown",
   "id": "fda33452",
   "metadata": {},
   "source": [
    "## Démonstration\n"
   ]
  },
  {
   "cell_type": "markdown",
   "id": "27205161",
   "metadata": {},
   "source": [
    "### Entrainement"
   ]
  },
  {
   "cell_type": "code",
   "execution_count": 2,
   "id": "94893eaa",
   "metadata": {},
   "outputs": [],
   "source": [
    "import matplotlib.pyplot as plt\n",
    "import matplotlib.axes as axes"
   ]
  },
  {
   "cell_type": "code",
   "execution_count": 14,
   "id": "993f8e02",
   "metadata": {
    "scrolled": true
   },
   "outputs": [],
   "source": [
    "accuracies = []\n",
    "costs = []\n",
    "batch_size = 64\n",
    "lr = 2\n",
    "epochs = 1200\n",
    "SCE = SoftmaxCrossEntropyLoss()\n",
    "layers = [DenseActivatedLayer(112, 784, ReLu), OutputLayer(16, 112, SCE)]\n",
    "X, Y = load_data_set(\"./EMNIST_DATA_SET/\")\n",
    "nn = NeuralNetwork(layers, classes=CLASSES)"
   ]
  },
  {
   "cell_type": "code",
   "execution_count": 15,
   "id": "776adb30",
   "metadata": {
    "scrolled": true
   },
   "outputs": [
    {
     "name": "stdout",
     "output_type": "stream",
     "text": [
      "Iteration:    0 | Accuracy: 19.6171875 %\n",
      "Iteration:   30 | Accuracy: 58.151041666666664 %\n",
      "Iteration:   60 | Accuracy: 77.734375 %\n",
      "Iteration:   90 | Accuracy: 82.79166666666667 %\n",
      "Iteration:  120 | Accuracy: 78.36979166666667 %\n",
      "Iteration:  150 | Accuracy: 83.85416666666667 %\n",
      "Iteration:  180 | Accuracy: 86.58333333333333 %\n",
      "Iteration:  210 | Accuracy: 86.55208333333333 %\n",
      "Iteration:  240 | Accuracy: 88.54427083333333 %\n",
      "Iteration:  270 | Accuracy: 86.17708333333333 %\n",
      "Iteration:  300 | Accuracy: 88.52083333333333 %\n",
      "Iteration:  330 | Accuracy: 90.74479166666667 %\n",
      "Iteration:  360 | Accuracy: 89.64322916666667 %\n",
      "Iteration:  390 | Accuracy: 91.15625 %\n",
      "Iteration:  420 | Accuracy: 90.484375 %\n",
      "Iteration:  450 | Accuracy: 91.80729166666667 %\n",
      "Iteration:  480 | Accuracy: 91.37239583333333 %\n",
      "Iteration:  510 | Accuracy: 91.96875 %\n",
      "Iteration:  540 | Accuracy: 92.51822916666667 %\n",
      "Iteration:  570 | Accuracy: 92.82552083333333 %\n",
      "Iteration:  600 | Accuracy: 92.59635416666667 %\n",
      "Iteration:  630 | Accuracy: 92.6484375 %\n",
      "Iteration:  660 | Accuracy: 93.171875 %\n",
      "Iteration:  690 | Accuracy: 92.453125 %\n",
      "Iteration:  720 | Accuracy: 91.90364583333333 %\n",
      "Iteration:  750 | Accuracy: 93.08854166666667 %\n",
      "Iteration:  780 | Accuracy: 93.53645833333333 %\n",
      "Iteration:  810 | Accuracy: 93.97135416666667 %\n",
      "Iteration:  840 | Accuracy: 93.625 %\n",
      "Iteration:  870 | Accuracy: 93.03125 %\n",
      "Iteration:  900 | Accuracy: 94.1640625 %\n",
      "Iteration:  930 | Accuracy: 93.74739583333333 %\n",
      "Iteration:  960 | Accuracy: 91.82291666666667 %\n",
      "Iteration:  990 | Accuracy: 93.88020833333333 %\n",
      "Iteration: 1020 | Accuracy: 94.58333333333333 %\n",
      "Iteration: 1050 | Accuracy: 94.00520833333333 %\n",
      "Iteration: 1080 | Accuracy: 93.63541666666667 %\n",
      "Iteration: 1110 | Accuracy: 94.6015625 %\n",
      "Iteration: 1140 | Accuracy: 94.5234375 %\n",
      "Iteration: 1170 | Accuracy: 94.34895833333333 %\n",
      "CPU times: total: 2min 35s\n",
      "Wall time: 1min 49s\n"
     ]
    }
   ],
   "source": [
    "%%time\n",
    "for i in range(epochs):\n",
    "    x, y = load_training_set(\"./EMNIST_DATA_SET/\", batch_size=batch_size, classes=CLASSES, equilibrium=True)\n",
    "    res = nn.forward(x)\n",
    "    nn.backward(y)\n",
    "#   percent = percent_good(res, Y)\n",
    "#   cost = compute_cost(res, Y)\n",
    "    if i%30==0:\n",
    "        pred = nn.forward(X)\n",
    "        percent = percent_good(pred, Y)\n",
    "        cost = compute_cost(pred, Y)\n",
    "        accuracies.append(percent)\n",
    "        costs.append(cost)\n",
    "        print(f\"Iteration: {i:4} | Accuracy: {percent} %\")"
   ]
  },
  {
   "cell_type": "code",
   "execution_count": 16,
   "id": "2b6b78f4",
   "metadata": {},
   "outputs": [
    {
     "data": {
      "image/png": "[encoded data removed]",
      "text/plain": [
       "<Figure size 432x288 with 2 Axes>"
      ]
     },
     "metadata": {
      "needs_background": "light"
     },
     "output_type": "display_data"
    }
   ],
   "source": [
    "figure, axis = plt.subplots(2, 1)\n",
    "axis[0].plot(list(range(0,epochs, 30)), accuracies)#s=1\n",
    "axis[1].plot(list(range(0,epochs, 30)), costs, color=\"red\")#s=1\n",
    "ytickss = [str(i)+\" %\" for i in range(0,101,10)]\n",
    "axis[0].set_yticks(list(range(0,101,10)), ytickss)\n",
    "axis[0].plot([0,epochs+1],[80,80], color=\"green\")\n",
    "plt.show()"
   ]
  },
  {
   "cell_type": "markdown",
   "id": "2fd4ac17",
   "metadata": {},
   "source": [
    "### Exemple concret"
   ]
  },
  {
   "cell_type": "code",
   "execution_count": 3,
   "id": "520a140d",
   "metadata": {},
   "outputs": [
    {
     "data": {
      "image/png": "[encoded data removed]",
      "text/plain": [
       "<Figure size 720x1008 with 32 Axes>"
      ]
     },
     "execution_count": 3,
     "metadata": {},
     "output_type": "execute_result"
    }
   ],
   "source": [
    "batch = make_random_batch(\"./EMNIST_DATA_SET/\", 32, CLASSES, equilibrium=True)\n",
    "imgs = [load_pil_image(f) for f in batch]\n",
    "image_grid(imgs)#, #titles=[\" \"]*len(batch))"
   ]
  },
  {
   "cell_type": "code",
   "execution_count": null,
   "id": "3379c7fb",
   "metadata": {},
   "outputs": [],
   "source": []
  },
  {
   "cell_type": "markdown",
   "id": "4d17b905",
   "metadata": {},
   "source": [
    "sauvegarde du models"
   ]
  },
  {
   "cell_type": "code",
   "execution_count": null,
   "id": "3f31ad32",
   "metadata": {},
   "outputs": [],
   "source": [
    "import pickle\n"
   ]
  },
  {
   "cell_type": "markdown",
   "id": "6bad8504",
   "metadata": {},
   "source": [
    "## Applications"
   ]
  },
  {
   "cell_type": "code",
   "execution_count": null,
   "id": "e12aeb87",
   "metadata": {},
   "outputs": [],
   "source": []
  },
  {
   "cell_type": "code",
   "execution_count": null,
   "id": "3837165f",
   "metadata": {},
   "outputs": [],
   "source": []
  },
  {
   "cell_type": "markdown",
   "id": "476de5a7",
   "metadata": {},
   "source": [
    "Repositoire github https://github.com/MK8BK/Classification_Hex_lddim2/rapport"
   ]
  }
 ],
 "metadata": {
  "kernelspec": {
   "display_name": "Python 3 (ipykernel)",
   "language": "python",
   "name": "python3"
  },
  "language_info": {
   "codemirror_mode": {
    "name": "ipython",
    "version": 3
   },
   "file_extension": ".py",
   "mimetype": "text/x-python",
   "name": "python",
   "nbconvert_exporter": "python",
   "pygments_lexer": "ipython3",
   "version": "3.9.7"
  }
 },
 "nbformat": 4,
 "nbformat_minor": 5
}
