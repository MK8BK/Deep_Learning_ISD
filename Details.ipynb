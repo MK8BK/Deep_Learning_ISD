{
 "cells": [
  {
   "cell_type": "markdown",
   "id": "0a14ca0d",
   "metadata": {},
   "source": [
    "# Deep Learning ISD"
   ]
  },
  {
   "cell_type": "markdown",
   "id": "4247dd90",
   "metadata": {},
   "source": [
    "## 1. Auteurs et liens\n",
    "\n",
    "| Nom  | Prénom | Courriel | Groupe | Github |\n",
    "| :-------------: | :-------------: | :-------------: | :-------------: | :-------------: |\n",
    "| AIT BELKACEM  | Moncef Karim  | moncef.ait-belkacem@universite-paris-saclay.fr  | LDDIM2  |<a href=\"https://github.com/MK8BK\">MK8BK</a>|\n",
    "| Tran--Guery | Thimoté | thimote.tran--guery@universite-paris-saclay.fr  | LDDIM2  |<a href=\"https://github.com/Thimote91\">Thimote91</a>|\n",
    "\n",
    "[Repositoire GitHub du projet](https://github.com/MK8BK/Deep_Learning_ISD)"
   ]
  },
  {
   "cell_type": "markdown",
   "id": "d9a29cb8",
   "metadata": {},
   "source": [
    "## 2. Introduction\n",
    "Ceci est le projet final de l'UE <a href=\"https://nicolas.thiery.name/Enseignement/IntroScienceDonnees/\">Initiation à la Science des Données</a> offert en L1-S2 à l'Université Paris-Saclay.\n",
    "\n",
    "Il s'agit d'un classificateur de caractères hexadécimaux manuscrits en python.\n",
    "\n",
    "Plus précisément, c’est une implémentation d’un réseau neuronal, visant la prédiction de caractères manuscrits de `0-9/A-F` (16 classes),\n",
    "\n",
    "dans le data set `EMNIST`.\n",
    "\n",
    "On utilise pour cela le module de calcul numérique `numpy`, le module de visualisation `matplotlib` et le module de traitement d'image `PIL`.\n",
    "\n",
    "(En outre des modules suivants de la librairie standard python : `os`, `random`, `pickle`, `typing`)"
   ]
  },
  {
   "cell_type": "markdown",
   "id": "53dc2d92",
   "metadata": {},
   "source": [
    "## 3. Aspects Théoriques "
   ]
  },
  {
   "cell_type": "markdown",
   "id": "30fc45ae",
   "metadata": {},
   "source": [
    "   "
   ]
  },
  {
   "cell_type": "markdown",
   "id": "8d8451ac",
   "metadata": {},
   "source": [
    "A completer ...\n",
    "\n",
    "...\n",
    "\n",
    "...\n",
    "\n",
    "...\n",
    "\n",
    "...\n",
    "\n",
    "partie math latex"
   ]
  },
  {
   "cell_type": "markdown",
   "id": "cbc0baa9",
   "metadata": {},
   "source": [
    " "
   ]
  },
  {
   "cell_type": "markdown",
   "id": "6b0866da",
   "metadata": {},
   "source": [
    "## 4. Détails de l'implémentation \n",
    "\n",
    "L'outil principal à notre disposition est l'objet np.array du module `numpy` .\n",
    "\n",
    "Toute référence au mot matrice est en fait un 2d np.array (np.matrix ne se prête pas à la tâche) .\n"
   ]
  },
  {
   "cell_type": "markdown",
   "id": "a16e36e2",
   "metadata": {},
   "source": [
    "### 4.1 Set de données\n",
    "\n",
    "On dispose de `38400` images, reparties en `16` classes, soit `2400` images par classe.\n",
    "\n",
    "Chaque image est au format `jpeg`.\n",
    "\n",
    "Ces fichiers sont dans le dossier `./EMNIST_DATA_SET/{classe de l'image}/{nom de l'image}.jpeg`.\n",
    "\n",
    "De plus chaque image contient sa classe en premier caractère.\n",
    "\n",
    "\n",
    "<img src=\"./EMNIST_DATA_SET/0/0_char_102479.jpeg\"  width=56 style=\"float: left\"/>\n",
    "<img src=\"./EMNIST_DATA_SET/1/1_char_16442.jpeg\"  width=56 style=\"float: left\"/>\n",
    "<img src=\"./EMNIST_DATA_SET/2/2_char_7136.jpeg\"  width=56 style=\"float: left\"/>\n",
    "<img src=\"./EMNIST_DATA_SET/3/3_char_55992.jpeg\"  width=56 style=\"float: left\"/>\n",
    "<img src=\"./EMNIST_DATA_SET/4/4_char_80661.jpeg\"  width=56 style=\"float: left\"/>\n",
    "<img src=\"./EMNIST_DATA_SET/5/5_char_73026.jpeg\"  width=56 style=\"float: left\"/>\n",
    "<img src=\"./EMNIST_DATA_SET/6/6_char_19045.jpeg\"  width=56 style=\"float: left\"/>\n",
    "<img src=\"./EMNIST_DATA_SET/7/7_char_107973.jpeg\"  width=56 style=\"float: left\"/>\n",
    "<img src=\"./EMNIST_DATA_SET/8/8_char_22810.jpeg\"  width=56 style=\"float: left\"/>\n",
    "<img src=\"./EMNIST_DATA_SET/9/9_char_110343.jpeg\"  width=56 style=\"float: left\"/>\n",
    "<img src=\"./EMNIST_DATA_SET/A/A_char_4502.jpeg\"  width=56 style=\"float: left\"/>\n",
    "<img src=\"./EMNIST_DATA_SET/B/B_char_9251.jpeg\"  width=56 style=\"float: left\"/>\n",
    "<img src=\"./EMNIST_DATA_SET/C/C_char_15156.jpeg\"  width=56 style=\"float: left\"/>\n",
    "<img src=\"./EMNIST_DATA_SET/D/D_char_35808.jpeg\"  width=56 style=\"float: left\"/>\n",
    "<img src=\"./EMNIST_DATA_SET/E/E_char_712.jpeg\"  width=56 style=\"float: left\"/>\n",
    "<img src=\"./EMNIST_DATA_SET/F/F_char_99118.jpeg\" width=56 style=\"float: left\"/>\n",
    "<div style=\"clear: both\"></div>\n",
    "\n",
    "Par exemple : `./EMNIST_DATA_SET/0/0_char_102479.jpeg` est le path vers la première image (celle du 0)"
   ]
  },
  {
   "cell_type": "code",
   "execution_count": null,
   "id": "8958c63d",
   "metadata": {},
   "outputs": [],
   "source": []
  },
  {
   "cell_type": "markdown",
   "id": "fd0222f5",
   "metadata": {},
   "source": [
    "### 4.2 Modularité\n",
    "\n",
    "Notre implémentation de Deep Learning se décompose en 6 fichiers situes dans le dossier `./src/` :\n",
    " - `LoadData.py`\n",
    " - `Functions.py`\n",
    " - `Layers.py`\n",
    " - `NeuralNetwork.py`\n",
    " - `Utilities.py`\n",
    "\n",
    "Importons ces six fichiers :"
   ]
  },
  {
   "cell_type": "code",
   "execution_count": 1,
   "id": "3b9b497c",
   "metadata": {},
   "outputs": [],
   "source": [
    "from src.LoadData import *\n",
    "from src.Functions import *\n",
    "from src.Layers import *\n",
    "from src.NeuralNetwork import *\n",
    "from src.Utilities import *"
   ]
  },
  {
   "cell_type": "markdown",
   "id": "73a0951d",
   "metadata": {},
   "source": [
    "Utilisons la fonction `show_source()` définie dans `./src/Utilities.py` afin d'observer en détails les objets qui seront manipulés par la suite."
   ]
  },
  {
   "cell_type": "markdown",
   "id": "cc922478",
   "metadata": {},
   "source": [
    "### 4.3 `LoadData`"
   ]
  },
  {
   "cell_type": "code",
   "execution_count": 2,
   "id": "22a01946",
   "metadata": {},
   "outputs": [
    {
     "name": "stdout",
     "output_type": "stream",
     "text": [
      "['0', '1', '2', '3', '4', '5', '6', '7', '8', '9', 'A', 'B', 'C', 'D', 'E', 'F']\n"
     ]
    }
   ],
   "source": [
    "#Global list[str] of classes(single characters)\n",
    "print(CLASSES)"
   ]
  },
  {
   "cell_type": "code",
   "execution_count": 3,
   "id": "bb53f449",
   "metadata": {},
   "outputs": [
    {
     "name": "stdout",
     "output_type": "stream",
     "text": [
      "Help on function char_to_label in module src.LoadData:\n",
      "\n",
      "char_to_label(character: str) -> int\n",
      "    Convert the character representation of the class into its integer representation\n",
      "    @param: character: str , has to be in the global defined classes\n",
      "    @return: the integer representation of said character\n",
      "\n"
     ]
    }
   ],
   "source": [
    "help(char_to_label)"
   ]
  },
  {
   "cell_type": "code",
   "execution_count": 4,
   "id": "c2c359ab",
   "metadata": {},
   "outputs": [
    {
     "name": "stdout",
     "output_type": "stream",
     "text": [
      "Help on function label_to_char in module src.LoadData:\n",
      "\n",
      "label_to_char(label: int) -> str\n",
      "    Convert the integer representation of the class into its character representation\n",
      "    @param: label: int , has to be a valid index of the global defined classes\n",
      "    @return: the character representation of said integer\n",
      "\n"
     ]
    }
   ],
   "source": [
    "help(label_to_char)"
   ]
  },
  {
   "cell_type": "code",
   "execution_count": 5,
   "id": "0439a3bf",
   "metadata": {},
   "outputs": [
    {
     "name": "stdout",
     "output_type": "stream",
     "text": [
      "Help on function load_pil_image in module src.LoadData:\n",
      "\n",
      "load_pil_image(str_path: str) -> <module 'PIL.Image' from 'C:\\\\Users\\\\User\\\\AppData\\\\Local\\\\Programs\\\\Python\\\\Python39\\\\lib\\\\site-packages\\\\PIL\\\\Image.py'>\n",
      "    Returns a grayscale PIL image given the full relative str_path\n",
      "    @param: str_path: the full relative str_path to the image file\n",
      "    @return: im: a PIL Image object (single channel: grayscale)\n",
      "\n"
     ]
    }
   ],
   "source": [
    "help(load_pil_image)"
   ]
  },
  {
   "cell_type": "code",
   "execution_count": 6,
   "id": "c304b845",
   "metadata": {},
   "outputs": [
    {
     "name": "stdout",
     "output_type": "stream",
     "text": [
      "Help on function load_numpy_image in module src.LoadData:\n",
      "\n",
      "load_numpy_image(str_path: str) -> <built-in function array>\n",
      "    Returns the flattened numpy representation of an image \n",
      "                        given the full relative str_path\n",
      "    @param: str_path: the full relative str_path to the image file\n",
      "    @return: im: a normalized np.array of dimensions (h*w,1)\n",
      "\n"
     ]
    }
   ],
   "source": [
    "help(load_numpy_image)"
   ]
  },
  {
   "cell_type": "code",
   "execution_count": 7,
   "id": "9c66ca56",
   "metadata": {},
   "outputs": [
    {
     "name": "stdout",
     "output_type": "stream",
     "text": [
      "Help on function make_input_matrix in module src.LoadData:\n",
      "\n",
      "make_input_matrix(samples: list) -> <built-in function array>\n",
      "    Returns the matrix representation of s samples\n",
      "    @param: samples: a list of flattened np.array 's, \n",
      "                    each representing a sample image\n",
      "    @return: input_matrix: a matrix (2d np.array) containing one sample per column,\n",
      "                                     1 feature(pixel value) per row\n",
      "\n"
     ]
    }
   ],
   "source": [
    "help(make_input_matrix)"
   ]
  },
  {
   "cell_type": "code",
   "execution_count": 8,
   "id": "6b4afc3a",
   "metadata": {},
   "outputs": [
    {
     "name": "stdout",
     "output_type": "stream",
     "text": [
      "Help on function make_labels in module src.LoadData:\n",
      "\n",
      "make_labels(filenames: list) -> <built-in function array>\n",
      "    Returns the class label for each image filename in filenames\n",
      "    @param: filenames: a list of strings, relative str_paths to files\n",
      "    @return: labels: a list of int labels : the class of each file\n",
      "\n"
     ]
    }
   ],
   "source": [
    "help(make_labels)"
   ]
  },
  {
   "cell_type": "code",
   "execution_count": 9,
   "id": "ad1d502e",
   "metadata": {},
   "outputs": [
    {
     "name": "stdout",
     "output_type": "stream",
     "text": [
      "Help on function make_labels_matrix in module src.LoadData:\n",
      "\n",
      "make_labels_matrix(labels: list, classes: list = ['0', '1', '2', '3', '4', '5', '6', '7', '8', '9', 'A', 'B', 'C', 'D', 'E', 'F']) -> <built-in function array>\n",
      "    Returns the matrix representation of the labels, \n",
      "                        given a list of char labels\n",
      "    @param: labels: a list of strings, filepaths\n",
      "    @return: labels_matrix: a 2 np.array of 16 rows, each column is an image\n",
      "\n"
     ]
    }
   ],
   "source": [
    "help(make_labels_matrix)"
   ]
  },
  {
   "cell_type": "code",
   "execution_count": 10,
   "id": "7039ada4",
   "metadata": {},
   "outputs": [
    {
     "name": "stdout",
     "output_type": "stream",
     "text": [
      "Help on function make_random_batch in module src.LoadData:\n",
      "\n",
      "make_random_batch(path: str, batch_size: int, classes: list, equilibrium: bool = True) -> list\n",
      "    Returns a list of filenames randomly, equal per class or not\n",
      "    @param: path: the path to the data_set folder\n",
      "    @param: batch_size: the number of images in the batch\n",
      "    @param: classes: a list of str representations of the classes\n",
      "    @param: equilibrium: a bool, wether or not to equalize images per class\n",
      "    @return: batch: a list of strings, \n",
      "            the paths to the randomly selected images\n",
      "\n"
     ]
    }
   ],
   "source": [
    "help(make_random_batch)"
   ]
  },
  {
   "cell_type": "code",
   "execution_count": 11,
   "id": "647691c1",
   "metadata": {},
   "outputs": [
    {
     "name": "stdout",
     "output_type": "stream",
     "text": [
      "Help on function load_training_set in module src.LoadData:\n",
      "\n",
      "load_training_set(path_str: str, batch_size: int, classes: list, equilibrium: bool = True) -> tuple\n",
      "    Returns a training input and labels matrices randomly, \n",
      "                                    equal per class or not\n",
      "    @param: path: the path to the data_set folder\n",
      "    @param: batch_size: the number of images in the batch\n",
      "    @param: classes: a list of str representations of the classes\n",
      "    @param: equilibrium: a bool, wether or not to equalize images per class\n",
      "    @return: batch: X: an input matrix of shape (784,batch_size) \n",
      "                    Y: a corresponding labels matrix of shape (16, batch_size)\n",
      "\n"
     ]
    }
   ],
   "source": [
    "help(load_training_set)"
   ]
  },
  {
   "cell_type": "code",
   "execution_count": 12,
   "id": "fc91a9b0",
   "metadata": {},
   "outputs": [
    {
     "name": "stdout",
     "output_type": "stream",
     "text": [
      "Help on function load_prediction_image in module src.LoadData:\n",
      "\n",
      "load_prediction_image(path_str)\n",
      "    Loads a single image located at path_str\n",
      "    @param: path_str: relative path to the image\n",
      "    @return: x: a 784x1 input matrix\n",
      "             im: PIL representation of the image\n",
      "\n"
     ]
    }
   ],
   "source": [
    "help(load_prediction_image)"
   ]
  },
  {
   "cell_type": "code",
   "execution_count": 13,
   "id": "9ec77f65",
   "metadata": {},
   "outputs": [
    {
     "name": "stdout",
     "output_type": "stream",
     "text": [
      "Help on function load_data_set in module src.LoadData:\n",
      "\n",
      "load_data_set(path_str)\n",
      "    Loads entire data set at path_str\n",
      "    @param: path_str: root path of data_set\n",
      "    @return: X: an imput matrix of shape (784, 38400)\n",
      "             Y: a labels matrix of shape (16, 38400)\n",
      "\n"
     ]
    }
   ],
   "source": [
    "help(load_data_set)"
   ]
  },
  {
   "cell_type": "markdown",
   "id": "f20534d4",
   "metadata": {},
   "source": [
    "### 4.4 `Functions`"
   ]
  },
  {
   "cell_type": "code",
   "execution_count": 35,
   "id": "fc1e2356",
   "metadata": {},
   "outputs": [
    {
     "name": "stdout",
     "output_type": "stream",
     "text": [
      "class Activation:\n",
      "    \"\"\"\n",
      "        Abstract Activation class\n",
      "    \"\"\"\n",
      "    def __init__(self, fn, dfn):\n",
      "        #forward pass function\n",
      "        self.fn = fn\n",
      "        #backward pass function (derivative of forward pass)\n",
      "        self.dfn = dfn\n",
      "\n",
      "    def forward(self, x):\n",
      "        #apply forward pass function to input matrix\n",
      "        return self.fn(x)\n",
      "\n",
      "    def backward(self, x):\n",
      "        #apply backward pass function to input grad\n",
      "        return self.dfn(x)\n",
      "\n"
     ]
    }
   ],
   "source": [
    "#hsite entre utiliser help ou getsource\n",
    "\n",
    "print(inspect.getsource(Activation))"
   ]
  },
  {
   "cell_type": "code",
   "execution_count": 40,
   "id": "fe1baaa6",
   "metadata": {},
   "outputs": [
    {
     "name": "stdout",
     "output_type": "stream",
     "text": [
      "Help on Activation in module src.Functions object:\n",
      "\n",
      "class Activation(builtins.object)\n",
      " |  Activation(fn, dfn)\n",
      " |  \n",
      " |  Abstract Activation class\n",
      " |  attributes:\n",
      " |      self.fn\n",
      " |  \n",
      " |  Methods defined here:\n",
      " |  \n",
      " |  __init__(self, fn, dfn)\n",
      " |      Initialize self.  See help(type(self)) for accurate signature.\n",
      " |  \n",
      " |  backward(self, x)\n",
      " |  \n",
      " |  forward(self, x)\n",
      " |  \n",
      " |  ----------------------------------------------------------------------\n",
      " |  Data descriptors defined here:\n",
      " |  \n",
      " |  __dict__\n",
      " |      dictionary for instance variables (if defined)\n",
      " |  \n",
      " |  __weakref__\n",
      " |      list of weak references to the object (if defined)\n",
      "\n"
     ]
    }
   ],
   "source": [
    "help(ReLu)"
   ]
  },
  {
   "cell_type": "code",
   "execution_count": null,
   "id": "b6741ade",
   "metadata": {},
   "outputs": [],
   "source": []
  },
  {
   "cell_type": "code",
   "execution_count": null,
   "id": "227fb013",
   "metadata": {},
   "outputs": [],
   "source": []
  },
  {
   "cell_type": "code",
   "execution_count": null,
   "id": "c074f7ef",
   "metadata": {},
   "outputs": [],
   "source": []
  },
  {
   "cell_type": "code",
   "execution_count": null,
   "id": "89d9a40c",
   "metadata": {},
   "outputs": [],
   "source": []
  },
  {
   "cell_type": "code",
   "execution_count": null,
   "id": "f265ed13",
   "metadata": {},
   "outputs": [],
   "source": []
  },
  {
   "cell_type": "code",
   "execution_count": null,
   "id": "01a7ba8f",
   "metadata": {},
   "outputs": [],
   "source": []
  },
  {
   "cell_type": "markdown",
   "id": "4514b31b",
   "metadata": {},
   "source": [
    "### 4.5 `Layers`"
   ]
  },
  {
   "cell_type": "code",
   "execution_count": null,
   "id": "5891fa14",
   "metadata": {},
   "outputs": [],
   "source": []
  },
  {
   "cell_type": "code",
   "execution_count": null,
   "id": "a22e53f4",
   "metadata": {},
   "outputs": [],
   "source": []
  },
  {
   "cell_type": "code",
   "execution_count": null,
   "id": "f13a1b5e",
   "metadata": {},
   "outputs": [],
   "source": []
  },
  {
   "cell_type": "markdown",
   "id": "90e5d4a1",
   "metadata": {},
   "source": [
    "### 4.6 `NeuralNetwork`"
   ]
  },
  {
   "cell_type": "code",
   "execution_count": null,
   "id": "daae2133",
   "metadata": {},
   "outputs": [],
   "source": []
  },
  {
   "cell_type": "markdown",
   "id": "c02ad317",
   "metadata": {},
   "source": [
    "### 4.7 `Utilities`"
   ]
  },
  {
   "cell_type": "code",
   "execution_count": null,
   "id": "8cd515f2",
   "metadata": {},
   "outputs": [],
   "source": []
  },
  {
   "cell_type": "code",
   "execution_count": null,
   "id": "6ec9b257",
   "metadata": {},
   "outputs": [],
   "source": []
  },
  {
   "cell_type": "code",
   "execution_count": null,
   "id": "5cc7af6e",
   "metadata": {},
   "outputs": [],
   "source": []
  },
  {
   "cell_type": "markdown",
   "id": "fda33452",
   "metadata": {},
   "source": [
    "## 5. Démonstration\n"
   ]
  },
  {
   "cell_type": "markdown",
   "id": "27205161",
   "metadata": {},
   "source": [
    "### 5.1 Entrainement"
   ]
  },
  {
   "cell_type": "markdown",
   "id": "29b6ec51",
   "metadata": {},
   "source": [
    "#### 5.1.1 Entrainement et test sur les memes mini_batch"
   ]
  },
  {
   "cell_type": "code",
   "execution_count": 33,
   "id": "24984890",
   "metadata": {},
   "outputs": [],
   "source": [
    "#settings\n",
    "accuracies = [0]\n",
    "costs = []\n",
    "batch_size = 64\n",
    "lr = 2\n",
    "epochs = 1200\n",
    "SCE = SoftmaxCrossEntropyLoss()\n",
    "layers = [DenseActivatedLayer(112, 784, ReLu), OutputLayer(16, 112, SCE)]\n",
    "nn = NeuralNetwork(layers)"
   ]
  },
  {
   "cell_type": "code",
   "execution_count": 34,
   "id": "71945099",
   "metadata": {
    "scrolled": true
   },
   "outputs": [
    {
     "name": "stdout",
     "output_type": "stream",
     "text": [
      "CPU times: total: 0 ns\n",
      "Wall time: 0 ns\n",
      "Iteration:    0 | Accuracy: 6.25 %\n",
      "Iteration:   30 | Accuracy: 51.5625 %\n",
      "Iteration:   60 | Accuracy: 73.4375 %\n",
      "Iteration:   90 | Accuracy: 76.5625 %\n",
      "Iteration:  120 | Accuracy: 79.6875 %\n",
      "Iteration:  150 | Accuracy: 79.6875 %\n",
      "Iteration:  180 | Accuracy: 84.375 %\n",
      "Iteration:  210 | Accuracy: 79.6875 %\n",
      "Iteration:  240 | Accuracy: 87.5 %\n",
      "Iteration:  270 | Accuracy: 92.1875 %\n",
      "Iteration:  300 | Accuracy: 89.0625 %\n",
      "Iteration:  330 | Accuracy: 79.6875 %\n",
      "Iteration:  360 | Accuracy: 89.0625 %\n",
      "Iteration:  390 | Accuracy: 90.625 %\n",
      "Iteration:  420 | Accuracy: 93.75 %\n",
      "Iteration:  450 | Accuracy: 87.5 %\n",
      "Iteration:  480 | Accuracy: 96.875 %\n",
      "Iteration:  510 | Accuracy: 81.25 %\n",
      "Iteration:  540 | Accuracy: 89.0625 %\n",
      "Iteration:  570 | Accuracy: 93.75 %\n",
      "Iteration:  600 | Accuracy: 92.1875 %\n",
      "Iteration:  630 | Accuracy: 93.75 %\n",
      "Iteration:  660 | Accuracy: 85.9375 %\n",
      "Iteration:  690 | Accuracy: 96.875 %\n",
      "Iteration:  720 | Accuracy: 93.75 %\n",
      "Iteration:  750 | Accuracy: 95.3125 %\n",
      "Iteration:  780 | Accuracy: 95.3125 %\n",
      "Iteration:  810 | Accuracy: 93.75 %\n",
      "Iteration:  840 | Accuracy: 84.375 %\n",
      "Iteration:  870 | Accuracy: 95.3125 %\n",
      "Iteration:  900 | Accuracy: 93.75 %\n",
      "Iteration:  930 | Accuracy: 92.1875 %\n",
      "Iteration:  960 | Accuracy: 93.75 %\n",
      "Iteration:  990 | Accuracy: 95.3125 %\n",
      "Iteration: 1020 | Accuracy: 98.4375 %\n",
      "Iteration: 1050 | Accuracy: 93.75 %\n",
      "Iteration: 1080 | Accuracy: 93.75 %\n",
      "Iteration: 1110 | Accuracy: 95.3125 %\n",
      "Iteration: 1140 | Accuracy: 87.5 %\n",
      "Iteration: 1170 | Accuracy: 96.875 %\n"
     ]
    }
   ],
   "source": [
    "#Training\n",
    "%time\n",
    "for i in range(epochs):\n",
    "    x, y = load_training_set(\"./EMNIST_DATA_SET/\", batch_size=batch_size, classes=CLASSES, equilibrium=True)\n",
    "    res = nn.forward(x)\n",
    "    nn.backward(y)\n",
    "    accuracy = percent_good(res, y)\n",
    "    cost = compute_cost(res, y)\n",
    "    accuracies.append(accuracy)\n",
    "    costs.append(cost)\n",
    "    if i%30==0:\n",
    "        print(f\"Iteration: {i:4} | Accuracy: {accuracy} %\")"
   ]
  },
  {
   "cell_type": "code",
   "execution_count": 30,
   "id": "e8588da2",
   "metadata": {},
   "outputs": [],
   "source": [
    "import matplotlib.pyplot as plt\n",
    "import matplotlib.axes as axes"
   ]
  },
  {
   "cell_type": "code",
   "execution_count": 38,
   "id": "f0e729ab",
   "metadata": {},
   "outputs": [
    {
     "data": {
      "image/png": "[encoded data removed]",
      "text/plain": [
       "<Figure size 1440x720 with 1 Axes>"
      ]
     },
     "metadata": {
      "needs_background": "light"
     },
     "output_type": "display_data"
    }
   ],
   "source": [
    "plt.scatter(list(range(epochs+1)), accuracies, s=0.5, color=\"blue\")#s=1\n",
    "yticks = [str(i)+\" %\" for i in range(0,101,10)]\n",
    "plt.yticks(list(range(0,101,10)), yticks)\n",
    "plt.scatter([0],[100], s=0.000001)\n",
    "plt.plot([0,epochs+1],[90,90], color=\"green\")\n",
    "plt.rcParams[\"figure.figsize\"] = (20,10)\n",
    "plt.show()"
   ]
  },
  {
   "cell_type": "code",
   "execution_count": 39,
   "id": "646cf79a",
   "metadata": {},
   "outputs": [
    {
     "data": {
      "image/png": "[encoded data removed]",
      "text/plain": [
       "<Figure size 1440x720 with 1 Axes>"
      ]
     },
     "metadata": {
      "needs_background": "light"
     },
     "output_type": "display_data"
    }
   ],
   "source": [
    "plt.scatter(list(range(0,epochs)), costs, color=\"red\", s=2)\n",
    "plt.show()"
   ]
  },
  {
   "cell_type": "code",
   "execution_count": 46,
   "id": "edee5e46",
   "metadata": {},
   "outputs": [],
   "source": [
    "del nn, layers"
   ]
  },
  {
   "cell_type": "markdown",
   "id": "adee07a9",
   "metadata": {},
   "source": [
    "#### 5.1.2 Entrainement sur mini_batch , test sur tout le data set"
   ]
  },
  {
   "cell_type": "code",
   "execution_count": 63,
   "id": "993f8e02",
   "metadata": {
    "scrolled": true
   },
   "outputs": [],
   "source": [
    "#settings\n",
    "accuracies2 = [0]\n",
    "costs2 = []\n",
    "batch_size = 64\n",
    "lr = 2\n",
    "epochs = 1200\n",
    "SCE = SoftmaxCrossEntropyLoss()\n",
    "layers2 = [DenseActivatedLayer(112, 784, ReLu), OutputLayer(16, 112, SCE)]\n",
    "nn2 = NeuralNetwork(layers2)\n",
    "#X, Y = load_data_set(\"./EMNIST_DATA_SET/\")"
   ]
  },
  {
   "cell_type": "code",
   "execution_count": 61,
   "id": "9a2d0c75",
   "metadata": {},
   "outputs": [
    {
     "ename": "NameError",
     "evalue": "name 'nn2' is not defined",
     "output_type": "error",
     "traceback": [
      "\u001b[1;31m---------------------------------------------------------------------------\u001b[0m",
      "\u001b[1;31mNameError\u001b[0m                                 Traceback (most recent call last)",
      "Input \u001b[1;32mIn [61]\u001b[0m, in \u001b[0;36m<cell line: 1>\u001b[1;34m()\u001b[0m\n\u001b[1;32m----> 1\u001b[0m \u001b[38;5;28;01mdel\u001b[39;00m nn2, layers2\n",
      "\u001b[1;31mNameError\u001b[0m: name 'nn2' is not defined"
     ]
    }
   ],
   "source": [
    "del nn2, layers2"
   ]
  },
  {
   "cell_type": "code",
   "execution_count": 64,
   "id": "776adb30",
   "metadata": {
    "scrolled": true
   },
   "outputs": [
    {
     "name": "stdout",
     "output_type": "stream",
     "text": [
      "CPU times: total: 0 ns\n",
      "Wall time: 0 ns\n",
      "Iteration:    0 | Accuracy: 19.354166666666668 %\n",
      "Iteration:   30 | Accuracy: 59.450520833333336 %\n",
      "Iteration:   60 | Accuracy: 78.21875 %\n",
      "Iteration:   90 | Accuracy: 81.4375 %\n",
      "Iteration:  120 | Accuracy: 84.1875 %\n",
      "Iteration:  150 | Accuracy: 85.13020833333333 %\n",
      "Iteration:  180 | Accuracy: 87.27864583333333 %\n"
     ]
    },
    {
     "ename": "KeyboardInterrupt",
     "evalue": "",
     "output_type": "error",
     "traceback": [
      "\u001b[1;31m---------------------------------------------------------------------------\u001b[0m",
      "\u001b[1;31mKeyboardInterrupt\u001b[0m                         Traceback (most recent call last)",
      "Input \u001b[1;32mIn [64]\u001b[0m, in \u001b[0;36m<cell line: 3>\u001b[1;34m()\u001b[0m\n\u001b[0;32m      7\u001b[0m \u001b[38;5;66;03m#   percent = percent_good(res, Y)\u001b[39;00m\n\u001b[0;32m      8\u001b[0m \u001b[38;5;66;03m#   cost = compute_cost(res, Y)\u001b[39;00m\n\u001b[0;32m      9\u001b[0m     \u001b[38;5;28;01mif\u001b[39;00m i\u001b[38;5;241m%\u001b[39m\u001b[38;5;241m30\u001b[39m\u001b[38;5;241m==\u001b[39m\u001b[38;5;241m0\u001b[39m:\n\u001b[1;32m---> 10\u001b[0m         pred \u001b[38;5;241m=\u001b[39m \u001b[43mnn2\u001b[49m\u001b[38;5;241;43m.\u001b[39;49m\u001b[43mforward\u001b[49m\u001b[43m(\u001b[49m\u001b[43mX\u001b[49m\u001b[43m)\u001b[49m\n\u001b[0;32m     11\u001b[0m         accuracy \u001b[38;5;241m=\u001b[39m percent_good(pred, Y)\n\u001b[0;32m     12\u001b[0m         cost \u001b[38;5;241m=\u001b[39m compute_cost(pred, Y)\n",
      "File \u001b[1;32m~\\D\\Deep_Learning_ISD\\src\\NeuralNetwork.py:12\u001b[0m, in \u001b[0;36mNeuralNetwork.forward\u001b[1;34m(self, X)\u001b[0m\n\u001b[0;32m     10\u001b[0m res \u001b[38;5;241m=\u001b[39m X\n\u001b[0;32m     11\u001b[0m \u001b[38;5;28;01mfor\u001b[39;00m layer \u001b[38;5;129;01min\u001b[39;00m \u001b[38;5;28mself\u001b[39m\u001b[38;5;241m.\u001b[39mlayers:\n\u001b[1;32m---> 12\u001b[0m     res \u001b[38;5;241m=\u001b[39m \u001b[43mlayer\u001b[49m\u001b[38;5;241;43m.\u001b[39;49m\u001b[43mforward\u001b[49m\u001b[43m(\u001b[49m\u001b[43mres\u001b[49m\u001b[43m)\u001b[49m\n\u001b[0;32m     13\u001b[0m \u001b[38;5;28mself\u001b[39m\u001b[38;5;241m.\u001b[39mres \u001b[38;5;241m=\u001b[39m res\n\u001b[0;32m     14\u001b[0m \u001b[38;5;28;01mreturn\u001b[39;00m res\n",
      "File \u001b[1;32m~\\D\\Deep_Learning_ISD\\src\\Layers.py:51\u001b[0m, in \u001b[0;36mDenseActivatedLayer.forward\u001b[1;34m(self, X)\u001b[0m\n\u001b[0;32m     49\u001b[0m \u001b[38;5;28;01mdef\u001b[39;00m \u001b[38;5;21mforward\u001b[39m(\u001b[38;5;28mself\u001b[39m, X: np\u001b[38;5;241m.\u001b[39marray) \u001b[38;5;241m-\u001b[39m\u001b[38;5;241m>\u001b[39m np\u001b[38;5;241m.\u001b[39marray:\n\u001b[0;32m     50\u001b[0m     \u001b[38;5;66;03m#Z = \u001b[39;00m\n\u001b[1;32m---> 51\u001b[0m     \u001b[38;5;28;43msuper\u001b[39;49m\u001b[43m(\u001b[49m\u001b[43m)\u001b[49m\u001b[38;5;241;43m.\u001b[39;49m\u001b[43mforward\u001b[49m\u001b[43m(\u001b[49m\u001b[43mX\u001b[49m\u001b[43m)\u001b[49m\n\u001b[0;32m     52\u001b[0m     \u001b[38;5;28mself\u001b[39m\u001b[38;5;241m.\u001b[39mA_of_z \u001b[38;5;241m=\u001b[39m \u001b[38;5;28mself\u001b[39m\u001b[38;5;241m.\u001b[39mA\u001b[38;5;241m.\u001b[39mforward(\u001b[38;5;28mself\u001b[39m\u001b[38;5;241m.\u001b[39mZ)\n\u001b[0;32m     53\u001b[0m     \u001b[38;5;28;01mreturn\u001b[39;00m \u001b[38;5;28mself\u001b[39m\u001b[38;5;241m.\u001b[39mA_of_z\n",
      "File \u001b[1;32m~\\D\\Deep_Learning_ISD\\src\\Layers.py:18\u001b[0m, in \u001b[0;36mDenseLinearLayer.forward\u001b[1;34m(self, X)\u001b[0m\n\u001b[0;32m     16\u001b[0m X \u001b[38;5;241m=\u001b[39m np\u001b[38;5;241m.\u001b[39matleast_2d(X)\n\u001b[0;32m     17\u001b[0m \u001b[38;5;28mself\u001b[39m\u001b[38;5;241m.\u001b[39mX \u001b[38;5;241m=\u001b[39m X\n\u001b[1;32m---> 18\u001b[0m \u001b[38;5;28mself\u001b[39m\u001b[38;5;241m.\u001b[39mZ \u001b[38;5;241m=\u001b[39m \u001b[43mnp\u001b[49m\u001b[38;5;241;43m.\u001b[39;49m\u001b[43mdot\u001b[49m\u001b[43m(\u001b[49m\u001b[38;5;28;43mself\u001b[39;49m\u001b[38;5;241;43m.\u001b[39;49m\u001b[43mW\u001b[49m\u001b[43m,\u001b[49m\u001b[38;5;28;43mself\u001b[39;49m\u001b[38;5;241;43m.\u001b[39;49m\u001b[43mX\u001b[49m\u001b[43m)\u001b[49m\u001b[38;5;241;43m+\u001b[39;49m\u001b[38;5;28;43mself\u001b[39;49m\u001b[38;5;241;43m.\u001b[39;49m\u001b[43mB\u001b[49m \n\u001b[0;32m     19\u001b[0m \u001b[38;5;28;01mreturn\u001b[39;00m \u001b[38;5;28mself\u001b[39m\u001b[38;5;241m.\u001b[39mZ\n",
      "\u001b[1;31mKeyboardInterrupt\u001b[0m: "
     ]
    }
   ],
   "source": [
    "#Training\n",
    "%time\n",
    "for i in range(epochs):\n",
    "    x, y = load_training_set(\"./EMNIST_DATA_SET/\", batch_size=batch_size, classes=CLASSES, equilibrium=True)\n",
    "    res = nn2.forward(x)\n",
    "    nn2.backward(y)\n",
    "#   percent = percent_good(res, Y)\n",
    "#   cost = compute_cost(res, Y)\n",
    "    if i%30==0:\n",
    "        pred = nn2.forward(X)\n",
    "        accuracy = percent_good(pred, Y)\n",
    "        cost = compute_cost(pred, Y)\n",
    "        accuracies2.append(accuracy)\n",
    "        costs2.append(cost)\n",
    "        print(f\"Iteration: {i:4} | Accuracy: {accuracy} %\")"
   ]
  },
  {
   "cell_type": "code",
   "execution_count": 49,
   "id": "0e79e68d",
   "metadata": {},
   "outputs": [
    {
     "ename": "ValueError",
     "evalue": "x and y must have same first dimension, but have shapes (41,) and (1246,)",
     "output_type": "error",
     "traceback": [
      "\u001b[1;31m---------------------------------------------------------------------------\u001b[0m",
      "\u001b[1;31mValueError\u001b[0m                                Traceback (most recent call last)",
      "Input \u001b[1;32mIn [49]\u001b[0m, in \u001b[0;36m<cell line: 1>\u001b[1;34m()\u001b[0m\n\u001b[1;32m----> 1\u001b[0m \u001b[43mplt\u001b[49m\u001b[38;5;241;43m.\u001b[39;49m\u001b[43mplot\u001b[49m\u001b[43m(\u001b[49m\u001b[38;5;28;43mlist\u001b[39;49m\u001b[43m(\u001b[49m\u001b[38;5;28;43mrange\u001b[39;49m\u001b[43m(\u001b[49m\u001b[38;5;241;43m0\u001b[39;49m\u001b[43m,\u001b[49m\u001b[43mepochs\u001b[49m\u001b[38;5;241;43m+\u001b[39;49m\u001b[38;5;241;43m1\u001b[39;49m\u001b[43m,\u001b[49m\u001b[43m \u001b[49m\u001b[38;5;241;43m30\u001b[39;49m\u001b[43m)\u001b[49m\u001b[43m)\u001b[49m\u001b[43m,\u001b[49m\u001b[43m \u001b[49m\u001b[43maccuracies\u001b[49m\u001b[43m)\u001b[49m\u001b[38;5;66;03m#s=1\u001b[39;00m\n\u001b[0;32m      2\u001b[0m yticks \u001b[38;5;241m=\u001b[39m [\u001b[38;5;28mstr\u001b[39m(i)\u001b[38;5;241m+\u001b[39m\u001b[38;5;124m\"\u001b[39m\u001b[38;5;124m \u001b[39m\u001b[38;5;124m%\u001b[39m\u001b[38;5;124m\"\u001b[39m \u001b[38;5;28;01mfor\u001b[39;00m i \u001b[38;5;129;01min\u001b[39;00m \u001b[38;5;28mrange\u001b[39m(\u001b[38;5;241m0\u001b[39m,\u001b[38;5;241m101\u001b[39m,\u001b[38;5;241m10\u001b[39m)]\n\u001b[0;32m      3\u001b[0m plt\u001b[38;5;241m.\u001b[39myticks(\u001b[38;5;28mlist\u001b[39m(\u001b[38;5;28mrange\u001b[39m(\u001b[38;5;241m0\u001b[39m,\u001b[38;5;241m101\u001b[39m,\u001b[38;5;241m10\u001b[39m)), yticks)\n",
      "File \u001b[1;32m~\\AppData\\Local\\Programs\\Python\\Python39\\lib\\site-packages\\matplotlib\\pyplot.py:2757\u001b[0m, in \u001b[0;36mplot\u001b[1;34m(scalex, scaley, data, *args, **kwargs)\u001b[0m\n\u001b[0;32m   2755\u001b[0m \u001b[38;5;129m@_copy_docstring_and_deprecators\u001b[39m(Axes\u001b[38;5;241m.\u001b[39mplot)\n\u001b[0;32m   2756\u001b[0m \u001b[38;5;28;01mdef\u001b[39;00m \u001b[38;5;21mplot\u001b[39m(\u001b[38;5;241m*\u001b[39margs, scalex\u001b[38;5;241m=\u001b[39m\u001b[38;5;28;01mTrue\u001b[39;00m, scaley\u001b[38;5;241m=\u001b[39m\u001b[38;5;28;01mTrue\u001b[39;00m, data\u001b[38;5;241m=\u001b[39m\u001b[38;5;28;01mNone\u001b[39;00m, \u001b[38;5;241m*\u001b[39m\u001b[38;5;241m*\u001b[39mkwargs):\n\u001b[1;32m-> 2757\u001b[0m     \u001b[38;5;28;01mreturn\u001b[39;00m gca()\u001b[38;5;241m.\u001b[39mplot(\n\u001b[0;32m   2758\u001b[0m         \u001b[38;5;241m*\u001b[39margs, scalex\u001b[38;5;241m=\u001b[39mscalex, scaley\u001b[38;5;241m=\u001b[39mscaley,\n\u001b[0;32m   2759\u001b[0m         \u001b[38;5;241m*\u001b[39m\u001b[38;5;241m*\u001b[39m({\u001b[38;5;124m\"\u001b[39m\u001b[38;5;124mdata\u001b[39m\u001b[38;5;124m\"\u001b[39m: data} \u001b[38;5;28;01mif\u001b[39;00m data \u001b[38;5;129;01mis\u001b[39;00m \u001b[38;5;129;01mnot\u001b[39;00m \u001b[38;5;28;01mNone\u001b[39;00m \u001b[38;5;28;01melse\u001b[39;00m {}), \u001b[38;5;241m*\u001b[39m\u001b[38;5;241m*\u001b[39mkwargs)\n",
      "File \u001b[1;32m~\\AppData\\Local\\Programs\\Python\\Python39\\lib\\site-packages\\matplotlib\\axes\\_axes.py:1632\u001b[0m, in \u001b[0;36mAxes.plot\u001b[1;34m(self, scalex, scaley, data, *args, **kwargs)\u001b[0m\n\u001b[0;32m   1390\u001b[0m \u001b[38;5;124;03m\"\"\"\u001b[39;00m\n\u001b[0;32m   1391\u001b[0m \u001b[38;5;124;03mPlot y versus x as lines and/or markers.\u001b[39;00m\n\u001b[0;32m   1392\u001b[0m \n\u001b[1;32m   (...)\u001b[0m\n\u001b[0;32m   1629\u001b[0m \u001b[38;5;124;03m(``'green'``) or hex strings (``'#008000'``).\u001b[39;00m\n\u001b[0;32m   1630\u001b[0m \u001b[38;5;124;03m\"\"\"\u001b[39;00m\n\u001b[0;32m   1631\u001b[0m kwargs \u001b[38;5;241m=\u001b[39m cbook\u001b[38;5;241m.\u001b[39mnormalize_kwargs(kwargs, mlines\u001b[38;5;241m.\u001b[39mLine2D)\n\u001b[1;32m-> 1632\u001b[0m lines \u001b[38;5;241m=\u001b[39m [\u001b[38;5;241m*\u001b[39m\u001b[38;5;28mself\u001b[39m\u001b[38;5;241m.\u001b[39m_get_lines(\u001b[38;5;241m*\u001b[39margs, data\u001b[38;5;241m=\u001b[39mdata, \u001b[38;5;241m*\u001b[39m\u001b[38;5;241m*\u001b[39mkwargs)]\n\u001b[0;32m   1633\u001b[0m \u001b[38;5;28;01mfor\u001b[39;00m line \u001b[38;5;129;01min\u001b[39;00m lines:\n\u001b[0;32m   1634\u001b[0m     \u001b[38;5;28mself\u001b[39m\u001b[38;5;241m.\u001b[39madd_line(line)\n",
      "File \u001b[1;32m~\\AppData\\Local\\Programs\\Python\\Python39\\lib\\site-packages\\matplotlib\\axes\\_base.py:312\u001b[0m, in \u001b[0;36m_process_plot_var_args.__call__\u001b[1;34m(self, data, *args, **kwargs)\u001b[0m\n\u001b[0;32m    310\u001b[0m     this \u001b[38;5;241m+\u001b[39m\u001b[38;5;241m=\u001b[39m args[\u001b[38;5;241m0\u001b[39m],\n\u001b[0;32m    311\u001b[0m     args \u001b[38;5;241m=\u001b[39m args[\u001b[38;5;241m1\u001b[39m:]\n\u001b[1;32m--> 312\u001b[0m \u001b[38;5;28;01myield from\u001b[39;00m \u001b[38;5;28;43mself\u001b[39;49m\u001b[38;5;241;43m.\u001b[39;49m\u001b[43m_plot_args\u001b[49m\u001b[43m(\u001b[49m\u001b[43mthis\u001b[49m\u001b[43m,\u001b[49m\u001b[43m \u001b[49m\u001b[43mkwargs\u001b[49m\u001b[43m)\u001b[49m\n",
      "File \u001b[1;32m~\\AppData\\Local\\Programs\\Python\\Python39\\lib\\site-packages\\matplotlib\\axes\\_base.py:498\u001b[0m, in \u001b[0;36m_process_plot_var_args._plot_args\u001b[1;34m(self, tup, kwargs, return_kwargs)\u001b[0m\n\u001b[0;32m    495\u001b[0m     \u001b[38;5;28mself\u001b[39m\u001b[38;5;241m.\u001b[39maxes\u001b[38;5;241m.\u001b[39myaxis\u001b[38;5;241m.\u001b[39mupdate_units(y)\n\u001b[0;32m    497\u001b[0m \u001b[38;5;28;01mif\u001b[39;00m x\u001b[38;5;241m.\u001b[39mshape[\u001b[38;5;241m0\u001b[39m] \u001b[38;5;241m!=\u001b[39m y\u001b[38;5;241m.\u001b[39mshape[\u001b[38;5;241m0\u001b[39m]:\n\u001b[1;32m--> 498\u001b[0m     \u001b[38;5;28;01mraise\u001b[39;00m \u001b[38;5;167;01mValueError\u001b[39;00m(\u001b[38;5;124mf\u001b[39m\u001b[38;5;124m\"\u001b[39m\u001b[38;5;124mx and y must have same first dimension, but \u001b[39m\u001b[38;5;124m\"\u001b[39m\n\u001b[0;32m    499\u001b[0m                      \u001b[38;5;124mf\u001b[39m\u001b[38;5;124m\"\u001b[39m\u001b[38;5;124mhave shapes \u001b[39m\u001b[38;5;132;01m{\u001b[39;00mx\u001b[38;5;241m.\u001b[39mshape\u001b[38;5;132;01m}\u001b[39;00m\u001b[38;5;124m and \u001b[39m\u001b[38;5;132;01m{\u001b[39;00my\u001b[38;5;241m.\u001b[39mshape\u001b[38;5;132;01m}\u001b[39;00m\u001b[38;5;124m\"\u001b[39m)\n\u001b[0;32m    500\u001b[0m \u001b[38;5;28;01mif\u001b[39;00m x\u001b[38;5;241m.\u001b[39mndim \u001b[38;5;241m>\u001b[39m \u001b[38;5;241m2\u001b[39m \u001b[38;5;129;01mor\u001b[39;00m y\u001b[38;5;241m.\u001b[39mndim \u001b[38;5;241m>\u001b[39m \u001b[38;5;241m2\u001b[39m:\n\u001b[0;32m    501\u001b[0m     \u001b[38;5;28;01mraise\u001b[39;00m \u001b[38;5;167;01mValueError\u001b[39;00m(\u001b[38;5;124mf\u001b[39m\u001b[38;5;124m\"\u001b[39m\u001b[38;5;124mx and y can be no greater than 2D, but have \u001b[39m\u001b[38;5;124m\"\u001b[39m\n\u001b[0;32m    502\u001b[0m                      \u001b[38;5;124mf\u001b[39m\u001b[38;5;124m\"\u001b[39m\u001b[38;5;124mshapes \u001b[39m\u001b[38;5;132;01m{\u001b[39;00mx\u001b[38;5;241m.\u001b[39mshape\u001b[38;5;132;01m}\u001b[39;00m\u001b[38;5;124m and \u001b[39m\u001b[38;5;132;01m{\u001b[39;00my\u001b[38;5;241m.\u001b[39mshape\u001b[38;5;132;01m}\u001b[39;00m\u001b[38;5;124m\"\u001b[39m)\n",
      "\u001b[1;31mValueError\u001b[0m: x and y must have same first dimension, but have shapes (41,) and (1246,)"
     ]
    },
    {
     "data": {
      "image/png": "[encoded data removed]",
      "text/plain": [
       "<Figure size 1440x720 with 1 Axes>"
      ]
     },
     "metadata": {
      "needs_background": "light"
     },
     "output_type": "display_data"
    }
   ],
   "source": [
    "plt.plot(list(range(0,epochs+1, 30)), accuracies)#s=1\n",
    "yticks = [str(i)+\" %\" for i in range(0,101,10)]\n",
    "plt.yticks(list(range(0,101,10)), yticks)\n",
    "plt.scatter([0],[100], s=0.1)\n",
    "plt.plot([0,epochs+1],[90,90], color=\"red\")\n",
    "plt.rcParams[\"figure.figsize\"] = (20,15)\n",
    "plt.show()"
   ]
  },
  {
   "cell_type": "code",
   "execution_count": null,
   "id": "2b6b78f4",
   "metadata": {},
   "outputs": [],
   "source": [
    "plt.scatter(list(range(0,epochs, 30)), costs, color=\"red\", s=10)\n",
    "plt.show()"
   ]
  },
  {
   "cell_type": "markdown",
   "id": "5165f574",
   "metadata": {},
   "source": [
    "#### 5.1.2 Entrainement et test sur tout le dataset"
   ]
  },
  {
   "cell_type": "code",
   "execution_count": null,
   "id": "e1cd2e87",
   "metadata": {},
   "outputs": [],
   "source": []
  },
  {
   "cell_type": "markdown",
   "id": "2fd4ac17",
   "metadata": {},
   "source": [
    "### 5.2 Exemple concret"
   ]
  },
  {
   "cell_type": "code",
   "execution_count": null,
   "id": "520a140d",
   "metadata": {},
   "outputs": [],
   "source": [
    "batch = make_random_batch(\"./EMNIST_DATA_SET/\", 32, CLASSES, equilibrium=True)\n",
    "imgs = [load_pil_image(f) for f in batch]\n",
    "l = image_grid(imgs, titles=[\" \"]*len(batch))\n",
    "l"
   ]
  },
  {
   "cell_type": "code",
   "execution_count": null,
   "id": "3379c7fb",
   "metadata": {},
   "outputs": [],
   "source": [
    "res = []\n",
    "for i in range(len(batch)): \n",
    "    x, im = load_prediction_image(batch[i])\n",
    "    p = nn.forward(x)\n",
    "    res.append(predicted_labels(p)[0])\n",
    "image_grid(imgs, titles=res)\n",
    "#print(res)"
   ]
  },
  {
   "cell_type": "markdown",
   "id": "4d17b905",
   "metadata": {},
   "source": [
    "sauvegarde du models"
   ]
  },
  {
   "cell_type": "code",
   "execution_count": null,
   "id": "3f31ad32",
   "metadata": {},
   "outputs": [],
   "source": [
    "import pickle\n"
   ]
  },
  {
   "cell_type": "markdown",
   "id": "6bad8504",
   "metadata": {},
   "source": [
    "## 6. Applications"
   ]
  },
  {
   "cell_type": "code",
   "execution_count": null,
   "id": "8935f9b8",
   "metadata": {},
   "outputs": [],
   "source": []
  },
  {
   "cell_type": "code",
   "execution_count": null,
   "id": "88dcaf8b",
   "metadata": {},
   "outputs": [],
   "source": []
  },
  {
   "cell_type": "code",
   "execution_count": null,
   "id": "f0d45d17",
   "metadata": {},
   "outputs": [],
   "source": []
  },
  {
   "cell_type": "code",
   "execution_count": null,
   "id": "050e1662",
   "metadata": {},
   "outputs": [],
   "source": []
  },
  {
   "cell_type": "code",
   "execution_count": null,
   "id": "4b92bd2b",
   "metadata": {},
   "outputs": [],
   "source": []
  },
  {
   "cell_type": "markdown",
   "id": "c941394c",
   "metadata": {},
   "source": [
    "## 7.Ouverture et extensions possibles"
   ]
  },
  {
   "cell_type": "code",
   "execution_count": null,
   "id": "3837165f",
   "metadata": {},
   "outputs": [],
   "source": []
  },
  {
   "cell_type": "code",
   "execution_count": null,
   "id": "d465a539",
   "metadata": {},
   "outputs": [],
   "source": []
  },
  {
   "cell_type": "markdown",
   "id": "bddf2efe",
   "metadata": {},
   "source": [
    "Utile mais pas encore note"
   ]
  },
  {
   "cell_type": "code",
   "execution_count": null,
   "id": "def2cf24",
   "metadata": {},
   "outputs": [],
   "source": [
    "print(inspect.getsource(load_pil_image))"
   ]
  }
 ],
 "metadata": {
  "kernelspec": {
   "display_name": "Python 3 (ipykernel)",
   "language": "python",
   "name": "python3"
  },
  "language_info": {
   "codemirror_mode": {
    "name": "ipython",
    "version": 3
   },
   "file_extension": ".py",
   "mimetype": "text/x-python",
   "name": "python",
   "nbconvert_exporter": "python",
   "pygments_lexer": "ipython3",
   "version": "3.9.7"
  }
 },
 "nbformat": 4,
 "nbformat_minor": 5
}
