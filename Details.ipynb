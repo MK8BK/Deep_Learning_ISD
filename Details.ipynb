{
 "cells": [
  {
   "cell_type": "markdown",
   "id": "0a14ca0d",
   "metadata": {},
   "source": [
    "# Deep Learning ISD"
   ]
  },
  {
   "cell_type": "markdown",
   "id": "4247dd90",
   "metadata": {},
   "source": [
    "## 1. Auteurs et liens\n",
    "\n",
    "| Nom  | Prénom | Courriel | Groupe | Github |\n",
    "| :-------------: | :-------------: | :-------------: | :-------------: | :-------------: |\n",
    "| AIT BELKACEM  | Moncef Karim  | moncef.ait-belkacem@universite-paris-saclay.fr  | LDDIM2  |<a href=\"https://github.com/MK8BK\">MK8BK</a>|\n",
    "| Tran--Guery | Thimoté | thimote.tran--guery@universite-paris-saclay.fr  | LDDIM2  |<a href=\"https://github.com/Thimote91\">Thimote91</a>|\n",
    "\n",
    "[Repositoire GitHub du projet](https://github.com/MK8BK/Deep_Learning_ISD)"
   ]
  },
  {
   "cell_type": "markdown",
   "id": "d9a29cb8",
   "metadata": {},
   "source": [
    "## 2. Introduction\n",
    "Ceci est le projet final de l'UE <a href=\"https://nicolas.thiery.name/Enseignement/IntroScienceDonnees/\">Initiation à la Science des Données</a> offert en L1-S2 à l'Université Paris-Saclay.\n",
    "\n",
    "Il s'agit d'un classificateur de caractères hexadécimaux manuscrits en python.\n",
    "\n",
    "Plus précisément, c’est une implémentation d’un réseau neuronal, visant la prédiction de caractères manuscrits de `0-9/A-F` (16 classes),\n",
    "\n",
    "dans le data set `EMNIST`.\n",
    "\n",
    "On utilise pour cela le module de calcul numérique `numpy`, le module de visualisation `matplotlib` et le module de traitement d'image `PIL`.\n",
    "\n",
    "(En outre des modules suivants de la librairie standard python : `os`, `random`, `pickle`, `typing`)"
   ]
  },
  {
   "cell_type": "markdown",
   "id": "53dc2d92",
   "metadata": {},
   "source": [
    "## 3. Aspects Théoriques "
   ]
  },
  {
   "cell_type": "markdown",
   "id": "30fc45ae",
   "metadata": {},
   "source": [
    "   "
   ]
  },
  {
   "cell_type": "markdown",
   "id": "8d8451ac",
   "metadata": {},
   "source": [
    "A completer ...\n",
    "\n",
    "...\n",
    "\n",
    "...\n",
    "\n",
    "...\n",
    "\n",
    "...\n",
    "\n",
    "partie math latex"
   ]
  },
  {
   "cell_type": "markdown",
   "id": "cbc0baa9",
   "metadata": {},
   "source": [
    " "
   ]
  },
  {
   "cell_type": "markdown",
   "id": "6b0866da",
   "metadata": {},
   "source": [
    "## 4. Détails de l'implémentation \n",
    "\n",
    "L'outil principal à notre disposition est l'objet np.array du module `numpy` .\n",
    "\n",
    "Toute référence au mot matrice est en fait un 2d np.array (np.matrix ne se prête pas à la tâche) .\n"
   ]
  },
  {
   "cell_type": "markdown",
   "id": "a16e36e2",
   "metadata": {},
   "source": [
    "### 4.1 Set de données\n",
    "\n",
    "On dispose de `38400` images, reparties en `16` classes, soit `2400` images par classe.\n",
    "\n",
    "Chaque image est au format `jpeg`.\n",
    "\n",
    "Ces fichiers sont dans le dossier `./EMNIST_DATA_SET/{classe de l'image}/{nom de l'image}.jpeg`.\n",
    "\n",
    "De plus chaque image contient sa classe en premier caractère.\n",
    "\n",
    "\n",
    "<img src=\"./EMNIST_DATA_SET/0/0_char_102479.jpeg\"  width=56 style=\"float: left\"/>\n",
    "<img src=\"./EMNIST_DATA_SET/1/1_char_16442.jpeg\"  width=56 style=\"float: left\"/>\n",
    "<img src=\"./EMNIST_DATA_SET/2/2_char_7136.jpeg\"  width=56 style=\"float: left\"/>\n",
    "<img src=\"./EMNIST_DATA_SET/3/3_char_55992.jpeg\"  width=56 style=\"float: left\"/>\n",
    "<img src=\"./EMNIST_DATA_SET/4/4_char_80661.jpeg\"  width=56 style=\"float: left\"/>\n",
    "<img src=\"./EMNIST_DATA_SET/5/5_char_73026.jpeg\"  width=56 style=\"float: left\"/>\n",
    "<img src=\"./EMNIST_DATA_SET/6/6_char_19045.jpeg\"  width=56 style=\"float: left\"/>\n",
    "<img src=\"./EMNIST_DATA_SET/7/7_char_107973.jpeg\"  width=56 style=\"float: left\"/>\n",
    "<img src=\"./EMNIST_DATA_SET/8/8_char_22810.jpeg\"  width=56 style=\"float: left\"/>\n",
    "<img src=\"./EMNIST_DATA_SET/9/9_char_110343.jpeg\"  width=56 style=\"float: left\"/>\n",
    "<img src=\"./EMNIST_DATA_SET/A/A_char_4502.jpeg\"  width=56 style=\"float: left\"/>\n",
    "<img src=\"./EMNIST_DATA_SET/B/B_char_9251.jpeg\"  width=56 style=\"float: left\"/>\n",
    "<img src=\"./EMNIST_DATA_SET/C/C_char_15156.jpeg\"  width=56 style=\"float: left\"/>\n",
    "<img src=\"./EMNIST_DATA_SET/D/D_char_35808.jpeg\"  width=56 style=\"float: left\"/>\n",
    "<img src=\"./EMNIST_DATA_SET/E/E_char_712.jpeg\"  width=56 style=\"float: left\"/>\n",
    "<img src=\"./EMNIST_DATA_SET/F/F_char_99118.jpeg\" width=56 style=\"float: left\"/>\n",
    "<div style=\"clear: both\"></div>\n",
    "\n",
    "Par exemple : `./EMNIST_DATA_SET/0/0_char_102479.jpeg` est le path vers la première image (celle du 0)"
   ]
  },
  {
   "cell_type": "markdown",
   "id": "fd0222f5",
   "metadata": {},
   "source": [
    "### 4.2 Modularité\n",
    "\n",
    "Notre implémentation de Deep Learning se décompose en 6 fichiers situes dans le dossier `./src/` :\n",
    " - `LoadData.py`\n",
    " - `Functions.py`\n",
    " - `Layers.py`\n",
    " - `NeuralNetwork.py`\n",
    " - `Utilities.py`\n",
    "\n",
    "Importons ces six fichiers :"
   ]
  },
  {
   "cell_type": "code",
   "execution_count": 1,
   "id": "3b9b497c",
   "metadata": {},
   "outputs": [],
   "source": [
    "from src.LoadData import *\n",
    "from src.Functions import *\n",
    "from src.Layers import *\n",
    "from src.NeuralNetwork import *\n",
    "from src.Trainer import *\n",
    "from src.Utilities import *"
   ]
  },
  {
   "cell_type": "markdown",
   "id": "73a0951d",
   "metadata": {},
   "source": [
    "Utilisons la fonction `show_source()` définie dans `./src/Utilities.py` afin d'observer en détails les objets qui seront manipulés par la suite."
   ]
  },
  {
   "cell_type": "markdown",
   "id": "cc922478",
   "metadata": {},
   "source": [
    "### 4.3 `LoadData`"
   ]
  },
  {
   "cell_type": "code",
   "execution_count": 2,
   "id": "22a01946",
   "metadata": {},
   "outputs": [
    {
     "name": "stdout",
     "output_type": "stream",
     "text": [
      "['0', '1', '2', '3', '4', '5', '6', '7', '8', '9', 'A', 'B', 'C', 'D', 'E', 'F']\n"
     ]
    }
   ],
   "source": [
    "#Global list[str] of classes(single characters)\n",
    "print(CLASSES)"
   ]
  },
  {
   "cell_type": "code",
   "execution_count": 3,
   "id": "bb53f449",
   "metadata": {},
   "outputs": [
    {
     "name": "stdout",
     "output_type": "stream",
     "text": [
      "Help on function char_to_label in module src.LoadData:\n",
      "\n",
      "char_to_label(character: str) -> int\n",
      "    Convert the character representation of the class into its integer representation\n",
      "    @param: character: str , has to be in the global defined classes\n",
      "    @return: the integer representation of said character\n",
      "\n"
     ]
    }
   ],
   "source": [
    "help(char_to_label)"
   ]
  },
  {
   "cell_type": "code",
   "execution_count": 4,
   "id": "c2c359ab",
   "metadata": {},
   "outputs": [
    {
     "name": "stdout",
     "output_type": "stream",
     "text": [
      "Help on function label_to_char in module src.LoadData:\n",
      "\n",
      "label_to_char(label: int) -> str\n",
      "    Convert the integer representation of the class into its character representation\n",
      "    @param: label: int , has to be a valid index of the global defined classes\n",
      "    @return: the character representation of said integer\n",
      "\n"
     ]
    }
   ],
   "source": [
    "help(label_to_char)"
   ]
  },
  {
   "cell_type": "code",
   "execution_count": 5,
   "id": "0439a3bf",
   "metadata": {},
   "outputs": [
    {
     "name": "stdout",
     "output_type": "stream",
     "text": [
      "Help on function load_pil_image in module src.LoadData:\n",
      "\n",
      "load_pil_image(str_path: str) -> <module 'PIL.Image' from 'C:\\\\Users\\\\User\\\\AppData\\\\Local\\\\Programs\\\\Python\\\\Python39\\\\lib\\\\site-packages\\\\PIL\\\\Image.py'>\n",
      "    Returns a grayscale PIL image given the full relative str_path\n",
      "    @param: str_path: the full relative str_path to the image file\n",
      "    @return: im: a PIL Image object (single channel: grayscale)\n",
      "\n"
     ]
    }
   ],
   "source": [
    "help(load_pil_image)"
   ]
  },
  {
   "cell_type": "code",
   "execution_count": 6,
   "id": "c304b845",
   "metadata": {},
   "outputs": [
    {
     "name": "stdout",
     "output_type": "stream",
     "text": [
      "Help on function load_numpy_image in module src.LoadData:\n",
      "\n",
      "load_numpy_image(str_path: str) -> <built-in function array>\n",
      "    Returns the flattened numpy representation of an image \n",
      "                        given the full relative str_path\n",
      "    @param: str_path: the full relative str_path to the image file\n",
      "    @return: im: a normalized np.array of dimensions (h*w,1)\n",
      "\n"
     ]
    }
   ],
   "source": [
    "help(load_numpy_image)"
   ]
  },
  {
   "cell_type": "code",
   "execution_count": 7,
   "id": "9c66ca56",
   "metadata": {},
   "outputs": [
    {
     "name": "stdout",
     "output_type": "stream",
     "text": [
      "Help on function make_input_matrix in module src.LoadData:\n",
      "\n",
      "make_input_matrix(samples: list) -> <built-in function array>\n",
      "    Returns the matrix representation of s samples\n",
      "    @param: samples: a list of flattened np.array 's, \n",
      "                    each representing a sample image\n",
      "    @return: input_matrix: a matrix (2d np.array) containing one sample per column,\n",
      "                                     1 feature(pixel value) per row\n",
      "\n"
     ]
    }
   ],
   "source": [
    "help(make_input_matrix)"
   ]
  },
  {
   "cell_type": "code",
   "execution_count": 8,
   "id": "6b4afc3a",
   "metadata": {},
   "outputs": [
    {
     "name": "stdout",
     "output_type": "stream",
     "text": [
      "Help on function make_labels in module src.LoadData:\n",
      "\n",
      "make_labels(filenames: list) -> <built-in function array>\n",
      "    Returns the class label for each image filename in filenames\n",
      "    @param: filenames: a list of strings, relative str_paths to files\n",
      "    @return: labels: a list of int labels : the class of each file\n",
      "\n"
     ]
    }
   ],
   "source": [
    "help(make_labels)"
   ]
  },
  {
   "cell_type": "code",
   "execution_count": 9,
   "id": "ad1d502e",
   "metadata": {},
   "outputs": [
    {
     "name": "stdout",
     "output_type": "stream",
     "text": [
      "Help on function make_labels_matrix in module src.LoadData:\n",
      "\n",
      "make_labels_matrix(labels: list, classes: list = ['0', '1', '2', '3', '4', '5', '6', '7', '8', '9', 'A', 'B', 'C', 'D', 'E', 'F']) -> <built-in function array>\n",
      "    Returns the one hot encoded matrix representation of the labels, \n",
      "                        given a list of char labels\n",
      "    @param: labels: a list of strings, filepaths\n",
      "    @return: labels_matrix: a 2 np.array of 16 rows, each column is an image\n",
      "\n"
     ]
    }
   ],
   "source": [
    "help(make_labels_matrix)"
   ]
  },
  {
   "cell_type": "code",
   "execution_count": 10,
   "id": "7039ada4",
   "metadata": {},
   "outputs": [
    {
     "name": "stdout",
     "output_type": "stream",
     "text": [
      "Help on function make_random_batch in module src.LoadData:\n",
      "\n",
      "make_random_batch(path: str, batch_size: int, classes: list, equilibrium: bool = True) -> list\n",
      "    Returns a list of filenames randomly, equal per class or not\n",
      "    @param: path: the path to the data_set folder\n",
      "    @param: batch_size: the number of images in the batch\n",
      "    @param: classes: a list of str representations of the classes\n",
      "    @param: equilibrium: a bool, wether or not to equalize images per class\n",
      "    @return: batch: a list of strings, \n",
      "            the paths to the randomly selected images\n",
      "\n"
     ]
    }
   ],
   "source": [
    "help(make_random_batch)"
   ]
  },
  {
   "cell_type": "code",
   "execution_count": 11,
   "id": "647691c1",
   "metadata": {},
   "outputs": [
    {
     "name": "stdout",
     "output_type": "stream",
     "text": [
      "Help on function load_training_set in module src.LoadData:\n",
      "\n",
      "load_training_set(path_str: str, batch_size: int, classes: list = ['0', '1', '2', '3', '4', '5', '6', '7', '8', '9', 'A', 'B', 'C', 'D', 'E', 'F'], equilibrium: bool = True) -> tuple\n",
      "    Returns a training input and labels matrices randomly, \n",
      "                                    equal per class or not\n",
      "    @param: path: the path to the data_set folder\n",
      "    @param: batch_size: the number of images in the batch\n",
      "    @param: classes: a list of str representations of the classes\n",
      "    @param: equilibrium: a bool, wether or not to equalize images per class\n",
      "    @return: batch: X: an input matrix of shape (784,batch_size) \n",
      "                    Y: a corresponding labels matrix of shape (16, batch_size)\n",
      "\n"
     ]
    }
   ],
   "source": [
    "help(load_training_set)"
   ]
  },
  {
   "cell_type": "code",
   "execution_count": 12,
   "id": "fc91a9b0",
   "metadata": {},
   "outputs": [
    {
     "name": "stdout",
     "output_type": "stream",
     "text": [
      "Help on function load_prediction_image in module src.LoadData:\n",
      "\n",
      "load_prediction_image(path_str)\n",
      "    Loads a single image located at path_str\n",
      "    @param: path_str: relative path to the image\n",
      "    @return: x: a 784x1 input matrix\n",
      "             im: PIL representation of the image\n",
      "\n"
     ]
    }
   ],
   "source": [
    "help(load_prediction_image)"
   ]
  },
  {
   "cell_type": "code",
   "execution_count": 13,
   "id": "9ec77f65",
   "metadata": {},
   "outputs": [
    {
     "name": "stdout",
     "output_type": "stream",
     "text": [
      "Help on function load_data_set in module src.LoadData:\n",
      "\n",
      "load_data_set(path_str)\n",
      "    Loads entire data set at path_str\n",
      "    @param: path_str: root path of data_set\n",
      "    @return: X: an imput matrix of shape (784, 38400)\n",
      "             Y: a labels matrix of shape (16, 38400)\n",
      "\n"
     ]
    }
   ],
   "source": [
    "help(load_data_set)"
   ]
  },
  {
   "cell_type": "markdown",
   "id": "f20534d4",
   "metadata": {},
   "source": [
    "### 4.4 `Functions`"
   ]
  },
  {
   "cell_type": "code",
   "execution_count": 14,
   "id": "fc1e2356",
   "metadata": {},
   "outputs": [
    {
     "name": "stdout",
     "output_type": "stream",
     "text": [
      "Help on class Activation in module src.Functions:\n",
      "\n",
      "class Activation(builtins.object)\n",
      " |  Activation(fn, dfn)\n",
      " |  \n",
      " |  Abstract Activation function class\n",
      " |  \n",
      " |  Methods defined here:\n",
      " |  \n",
      " |  __init__(self, fn, dfn)\n",
      " |      @param: Callable self.fn: forward pass function\n",
      " |      @param: Callable self.dfn: backward pass function\n",
      " |              (derivative of forward pass function)\n",
      " |  \n",
      " |  backward(self, x)\n",
      " |      apply backward pass function to input gradient matrix(2d np.array)\n",
      " |      @param: x : 2d np.array , gradient of loss wrt layer output\n",
      " |      @return: a 2d np.array (same shape as x), elementwise evaluation using dfn\n",
      " |              ie: gradient of error wrt linear part of layer\n",
      " |  \n",
      " |  forward(self, x)\n",
      " |      apply forward pass function to input matrix (2d np.array)\n",
      " |      @param: x : a 2d np.array, the results of the linear part of the layer\n",
      " |      @return: a 2d np.array (same shape as x), elementwise evaluation using fn\n",
      " |  \n",
      " |  ----------------------------------------------------------------------\n",
      " |  Data descriptors defined here:\n",
      " |  \n",
      " |  __dict__\n",
      " |      dictionary for instance variables (if defined)\n",
      " |  \n",
      " |  __weakref__\n",
      " |      list of weak references to the object (if defined)\n",
      "\n"
     ]
    }
   ],
   "source": [
    "help(Activation)"
   ]
  },
  {
   "cell_type": "code",
   "execution_count": 15,
   "id": "fe1baaa6",
   "metadata": {},
   "outputs": [
    {
     "name": "stdout",
     "output_type": "stream",
     "text": [
      "Help on Activation in module src.Functions object:\n",
      "\n",
      "class Activation(builtins.object)\n",
      " |  Activation(fn, dfn)\n",
      " |  \n",
      " |  Abstract Activation function class\n",
      " |  \n",
      " |  Methods defined here:\n",
      " |  \n",
      " |  __init__(self, fn, dfn)\n",
      " |      @param: Callable self.fn: forward pass function\n",
      " |      @param: Callable self.dfn: backward pass function\n",
      " |              (derivative of forward pass function)\n",
      " |  \n",
      " |  backward(self, x)\n",
      " |      apply backward pass function to input gradient matrix(2d np.array)\n",
      " |      @param: x : 2d np.array , gradient of loss wrt layer output\n",
      " |      @return: a 2d np.array (same shape as x), elementwise evaluation using dfn\n",
      " |              ie: gradient of error wrt linear part of layer\n",
      " |  \n",
      " |  forward(self, x)\n",
      " |      apply forward pass function to input matrix (2d np.array)\n",
      " |      @param: x : a 2d np.array, the results of the linear part of the layer\n",
      " |      @return: a 2d np.array (same shape as x), elementwise evaluation using fn\n",
      " |  \n",
      " |  ----------------------------------------------------------------------\n",
      " |  Data descriptors defined here:\n",
      " |  \n",
      " |  __dict__\n",
      " |      dictionary for instance variables (if defined)\n",
      " |  \n",
      " |  __weakref__\n",
      " |      list of weak references to the object (if defined)\n",
      "\n"
     ]
    }
   ],
   "source": [
    "help(ReLu)"
   ]
  },
  {
   "cell_type": "code",
   "execution_count": 16,
   "id": "b6741ade",
   "metadata": {},
   "outputs": [
    {
     "name": "stdout",
     "output_type": "stream",
     "text": [
      "Help on Activation in module src.Functions object:\n",
      "\n",
      "class Activation(builtins.object)\n",
      " |  Activation(fn, dfn)\n",
      " |  \n",
      " |  Abstract Activation function class\n",
      " |  \n",
      " |  Methods defined here:\n",
      " |  \n",
      " |  __init__(self, fn, dfn)\n",
      " |      @param: Callable self.fn: forward pass function\n",
      " |      @param: Callable self.dfn: backward pass function\n",
      " |              (derivative of forward pass function)\n",
      " |  \n",
      " |  backward(self, x)\n",
      " |      apply backward pass function to input gradient matrix(2d np.array)\n",
      " |      @param: x : 2d np.array , gradient of loss wrt layer output\n",
      " |      @return: a 2d np.array (same shape as x), elementwise evaluation using dfn\n",
      " |              ie: gradient of error wrt linear part of layer\n",
      " |  \n",
      " |  forward(self, x)\n",
      " |      apply forward pass function to input matrix (2d np.array)\n",
      " |      @param: x : a 2d np.array, the results of the linear part of the layer\n",
      " |      @return: a 2d np.array (same shape as x), elementwise evaluation using fn\n",
      " |  \n",
      " |  ----------------------------------------------------------------------\n",
      " |  Data descriptors defined here:\n",
      " |  \n",
      " |  __dict__\n",
      " |      dictionary for instance variables (if defined)\n",
      " |  \n",
      " |  __weakref__\n",
      " |      list of weak references to the object (if defined)\n",
      "\n"
     ]
    }
   ],
   "source": [
    "help(Sigmoid)"
   ]
  },
  {
   "cell_type": "code",
   "execution_count": 17,
   "id": "227fb013",
   "metadata": {},
   "outputs": [
    {
     "name": "stdout",
     "output_type": "stream",
     "text": [
      "Help on Activation in module src.Functions object:\n",
      "\n",
      "class Activation(builtins.object)\n",
      " |  Activation(fn, dfn)\n",
      " |  \n",
      " |  Abstract Activation function class\n",
      " |  \n",
      " |  Methods defined here:\n",
      " |  \n",
      " |  __init__(self, fn, dfn)\n",
      " |      @param: Callable self.fn: forward pass function\n",
      " |      @param: Callable self.dfn: backward pass function\n",
      " |              (derivative of forward pass function)\n",
      " |  \n",
      " |  backward(self, x)\n",
      " |      apply backward pass function to input gradient matrix(2d np.array)\n",
      " |      @param: x : 2d np.array , gradient of loss wrt layer output\n",
      " |      @return: a 2d np.array (same shape as x), elementwise evaluation using dfn\n",
      " |              ie: gradient of error wrt linear part of layer\n",
      " |  \n",
      " |  forward(self, x)\n",
      " |      apply forward pass function to input matrix (2d np.array)\n",
      " |      @param: x : a 2d np.array, the results of the linear part of the layer\n",
      " |      @return: a 2d np.array (same shape as x), elementwise evaluation using fn\n",
      " |  \n",
      " |  ----------------------------------------------------------------------\n",
      " |  Data descriptors defined here:\n",
      " |  \n",
      " |  __dict__\n",
      " |      dictionary for instance variables (if defined)\n",
      " |  \n",
      " |  __weakref__\n",
      " |      list of weak references to the object (if defined)\n",
      "\n"
     ]
    }
   ],
   "source": [
    "help(Tanh)"
   ]
  },
  {
   "cell_type": "code",
   "execution_count": 18,
   "id": "c074f7ef",
   "metadata": {},
   "outputs": [
    {
     "name": "stdout",
     "output_type": "stream",
     "text": [
      "Help on class SoftmaxCrossEntropyLoss in module src.Functions:\n",
      "\n",
      "class SoftmaxCrossEntropyLoss(builtins.object)\n",
      " |  SoftmaxCrossEntropyLoss(eps: float = 1e-09, axis=0)\n",
      " |  \n",
      " |  Softmax Cross Entropy loss function wrapper class\n",
      " |  \n",
      " |  Methods defined here:\n",
      " |  \n",
      " |  __init__(self, eps: float = 1e-09, axis=0)\n",
      " |      @param: optional eps = 1e-9: safety pre-log clipping precision\n",
      " |      @param: optional axis = 0 (columns) \n",
      " |                          apply softmax by columns or rows of matrix\n",
      " |  \n",
      " |  backward(self, y)\n",
      " |      return gradient of loss with respect to prediction \n",
      " |          for Softmax Cross Entropy Loss function\n",
      " |      @param: y : 2d np.array of labels\n",
      " |      @return: softmax_preds - labels \n",
      " |              (gradient of loss wrt linear output layer)\n",
      " |  \n",
      " |  forward(self, x)\n",
      " |      apply softmax to matrix by axis (0 columns; 1 rows)\n",
      " |      @param: x : a 2d np.array, the results of the linear part of the layer\n",
      " |      @return: self.p (cached for backward use), axis-wise softmax\n",
      " |                  probability distribution per axis\n",
      " |  \n",
      " |  ----------------------------------------------------------------------\n",
      " |  Data descriptors defined here:\n",
      " |  \n",
      " |  __dict__\n",
      " |      dictionary for instance variables (if defined)\n",
      " |  \n",
      " |  __weakref__\n",
      " |      list of weak references to the object (if defined)\n",
      "\n"
     ]
    }
   ],
   "source": [
    "help(SoftmaxCrossEntropyLoss)"
   ]
  },
  {
   "cell_type": "code",
   "execution_count": 19,
   "id": "89d9a40c",
   "metadata": {},
   "outputs": [
    {
     "name": "stdout",
     "output_type": "stream",
     "text": [
      "Help on function compute_cost in module src.Functions:\n",
      "\n",
      "compute_cost(p, y, eps=1e-09)\n",
      "    Compute cost using Cross Entropy loss function\n",
      "    @param: p : np.array of shape (16, batch_size),\n",
      "             column wise probabilities per sample\n",
      "    @param: y : one hot encoded np.array of labels\n",
      "    @return: loss (float)\n",
      "\n"
     ]
    }
   ],
   "source": [
    "help(compute_cost)"
   ]
  },
  {
   "cell_type": "code",
   "execution_count": 20,
   "id": "f265ed13",
   "metadata": {},
   "outputs": [
    {
     "name": "stdout",
     "output_type": "stream",
     "text": [
      "Help on function predicted_labels in module src.Functions:\n",
      "\n",
      "predicted_labels(p)\n",
      "    Converts a columnwise matrix of probabilities into prediction labels\n",
      "    @param: p : np.array of shape (16, batch_size), sum(column)=1\n",
      "    @return: a list characters, predictions based on max probability per image\n",
      "\n"
     ]
    }
   ],
   "source": [
    "help(predicted_labels)"
   ]
  },
  {
   "cell_type": "code",
   "execution_count": 21,
   "id": "01a7ba8f",
   "metadata": {},
   "outputs": [
    {
     "name": "stdout",
     "output_type": "stream",
     "text": [
      "Help on function percent_good in module src.Functions:\n",
      "\n",
      "percent_good(p, y)\n",
      "    Returns a percentage (range 0 to 100 float) of good predictions\n",
      "    @param: p : np.array of shape (16, batch_size), sum(column)=1\n",
      "    @param: y : np.array of shape (16, batch_size), one-hot-encoded\n",
      "    @return: accuracy : a float between 0 and 100,\n",
      "            the percentage of good predictions\n",
      "\n"
     ]
    }
   ],
   "source": [
    "help(percent_good)"
   ]
  },
  {
   "cell_type": "markdown",
   "id": "4514b31b",
   "metadata": {},
   "source": [
    "### 4.5 `Layers`"
   ]
  },
  {
   "cell_type": "code",
   "execution_count": 22,
   "id": "5891fa14",
   "metadata": {},
   "outputs": [
    {
     "name": "stdout",
     "output_type": "stream",
     "text": [
      "Help on class DenseLinearLayer in module src.Layers:\n",
      "\n",
      "class DenseLinearLayer(builtins.object)\n",
      " |  DenseLinearLayer(N, F)\n",
      " |  \n",
      " |  DenseLinearLayer wrapper class\n",
      " |      Fully connected, unactivated layer\n",
      " |  \n",
      " |  Methods defined here:\n",
      " |  \n",
      " |  __init__(self, N, F)\n",
      " |      Constructor uses glorot initialisation\n",
      " |      @param: N : int, number of neurons\n",
      " |      @param: F : int, number of input features \n",
      " |                  (neurons in previous layer)\n",
      " |  \n",
      " |  backward(self, dZ, lr)\n",
      " |      Performs the backward pass given gradient matrix\n",
      " |      @param: dZ : an np.array of shape (N, batch_size)\n",
      " |      @action: updates self.W and self.B using SGD\n",
      " |      @return: dX : gradient of error wrt previous layer\n",
      " |              shape (F, batch_size)\n",
      " |  \n",
      " |  forward(self, X)\n",
      " |      Performs WX+B given input matrix\n",
      " |      @param: X : an np.array of shape (F, batch_size)\n",
      " |      @return: Z (cached for backward pass), weights*inputs + biases\n",
      " |  \n",
      " |  ----------------------------------------------------------------------\n",
      " |  Data descriptors defined here:\n",
      " |  \n",
      " |  __dict__\n",
      " |      dictionary for instance variables (if defined)\n",
      " |  \n",
      " |  __weakref__\n",
      " |      list of weak references to the object (if defined)\n",
      "\n"
     ]
    }
   ],
   "source": [
    "help(DenseLinearLayer)"
   ]
  },
  {
   "cell_type": "code",
   "execution_count": 23,
   "id": "a22e53f4",
   "metadata": {},
   "outputs": [
    {
     "name": "stdout",
     "output_type": "stream",
     "text": [
      "Help on class DenseActivatedLayer in module src.Layers:\n",
      "\n",
      "class DenseActivatedLayer(DenseLinearLayer)\n",
      " |  DenseActivatedLayer(N, F, A)\n",
      " |  \n",
      " |  Child of DenseLinearLayer, uses an activation function (R->R)\n",
      " |  \n",
      " |  Method resolution order:\n",
      " |      DenseActivatedLayer\n",
      " |      DenseLinearLayer\n",
      " |      builtins.object\n",
      " |  \n",
      " |  Methods defined here:\n",
      " |  \n",
      " |  __init__(self, N, F, A)\n",
      " |      Constructor, uses DenseLinearLayer constructor\n",
      " |          declares A, activation function for layer instance\n",
      " |      @param: N : int, number of neurons\n",
      " |      @param: F : int, number of input features \n",
      " |                  (neurons in previous layer)\n",
      " |      @param: A : activation function, \n",
      " |                  instance of src.Functions.Activation\n",
      " |  \n",
      " |  backward(self, dA_of_Z: <built-in function array>, lr) -> <built-in function array>\n",
      " |      Performs the backward pass given gradient matrix\n",
      " |      @param: dA_of_Z : an np.array of shape (N, batch_size)\n",
      " |      @action: elementwise activation.backward(Z)*dA_of_Z (Hadamrd Product)\n",
      " |      @action: updates self.W and self.B using super().backward(dZ)\n",
      " |      @return: dX : gradient of error wrt previous layer\n",
      " |              shape (F, batch_size)\n",
      " |  \n",
      " |  forward(self, X: <built-in function array>) -> <built-in function array>\n",
      " |      Performs A(WX+B) given input matrix\n",
      " |      @param: X : an np.array of shape (F, batch_size)\n",
      " |      @return: A_of_z (cached for backward pass),\n",
      " |           forward_activation(weights*inputs + biases)\n",
      " |  \n",
      " |  ----------------------------------------------------------------------\n",
      " |  Data descriptors inherited from DenseLinearLayer:\n",
      " |  \n",
      " |  __dict__\n",
      " |      dictionary for instance variables (if defined)\n",
      " |  \n",
      " |  __weakref__\n",
      " |      list of weak references to the object (if defined)\n",
      "\n"
     ]
    }
   ],
   "source": [
    "help(DenseActivatedLayer)"
   ]
  },
  {
   "cell_type": "code",
   "execution_count": 24,
   "id": "f13a1b5e",
   "metadata": {},
   "outputs": [
    {
     "name": "stdout",
     "output_type": "stream",
     "text": [
      "Help on class OutputLayer in module src.Layers:\n",
      "\n",
      "class OutputLayer(DenseLinearLayer)\n",
      " |  OutputLayer(N, F, C)\n",
      " |  \n",
      " |  Method resolution order:\n",
      " |      OutputLayer\n",
      " |      DenseLinearLayer\n",
      " |      builtins.object\n",
      " |  \n",
      " |  Methods defined here:\n",
      " |  \n",
      " |  __init__(self, N, F, C)\n",
      " |      Constructor, uses DenseLinearLayer constructor\n",
      " |          declares C, combined cost and activation function for layer\n",
      " |      @param: N : int, number of neurons (same as number of classes)\n",
      " |      @param: F : int, number of input features\n",
      " |                  (neurons in previous layer)\n",
      " |      @param: C : cost and activation function, \n",
      " |                  Only implemented SoftmaxCrossEntropy for now (works best)\n",
      " |  \n",
      " |  backward(self, Y, lr)\n",
      " |      Performs the backward pass given labels matrix\n",
      " |      @param: Y : an np.array of shape (N, batch_size)\n",
      " |      @action: loss/cost function.backward(Y)\n",
      " |      @action: updates self.W and self.B using super().backward(dZ)\n",
      " |      @return: dX : gradient of error wrt previous layer\n",
      " |              shape (F, batch_size)\n",
      " |  \n",
      " |  forward(self, X)\n",
      " |      Performs C(WX+B) given input matrix\n",
      " |      @param: X : an np.array of shape (F, batch_size)\n",
      " |      @return: A_of_z (cached for backward pass),\n",
      " |           forward_activation(weights*inputs + biases)\n",
      " |  \n",
      " |  ----------------------------------------------------------------------\n",
      " |  Data descriptors inherited from DenseLinearLayer:\n",
      " |  \n",
      " |  __dict__\n",
      " |      dictionary for instance variables (if defined)\n",
      " |  \n",
      " |  __weakref__\n",
      " |      list of weak references to the object (if defined)\n",
      "\n"
     ]
    }
   ],
   "source": [
    "help(OutputLayer)"
   ]
  },
  {
   "cell_type": "markdown",
   "id": "90e5d4a1",
   "metadata": {},
   "source": [
    "### 4.6 `NeuralNetwork`"
   ]
  },
  {
   "cell_type": "code",
   "execution_count": 25,
   "id": "daae2133",
   "metadata": {},
   "outputs": [
    {
     "name": "stdout",
     "output_type": "stream",
     "text": [
      "Help on class NeuralNetwork in module src.NeuralNetwork:\n",
      "\n",
      "class NeuralNetwork(builtins.object)\n",
      " |  NeuralNetwork(layers)\n",
      " |  \n",
      " |  The NeuralNetwork wrapper class\n",
      " |  \n",
      " |  Methods defined here:\n",
      " |  \n",
      " |  __init__(self, layers)\n",
      " |      @param: layers : list[DenseLinearLayer]\n",
      " |          ordered, last must be OutputLayer\n",
      " |  \n",
      " |  backward(self, Y, lr=0.01)\n",
      " |      Backward pass of neural network\n",
      " |      @param: Y : a 2d np.array of shape (16, batch_size)\n",
      " |      @param: Optional lr=0.01 : Learning rate\n",
      " |      @action: perform backpropagation, use ____Layer.backward\n",
      " |              successively\n",
      " |      @return: None\n",
      " |  \n",
      " |  forward(self, X)\n",
      " |      Forward pass of neural network\n",
      " |      @param: X : a 2d np.array of shape (784, batch_size)\n",
      " |      @return: res : model prediction: of shape (16, batch_size)\n",
      " |  \n",
      " |  ----------------------------------------------------------------------\n",
      " |  Data descriptors defined here:\n",
      " |  \n",
      " |  __dict__\n",
      " |      dictionary for instance variables (if defined)\n",
      " |  \n",
      " |  __weakref__\n",
      " |      list of weak references to the object (if defined)\n",
      "\n"
     ]
    }
   ],
   "source": [
    "help(NeuralNetwork)"
   ]
  },
  {
   "cell_type": "markdown",
   "id": "76199b21",
   "metadata": {},
   "source": [
    "### 4.7 `Trainer`"
   ]
  },
  {
   "cell_type": "code",
   "execution_count": null,
   "id": "60b085f1",
   "metadata": {},
   "outputs": [],
   "source": []
  },
  {
   "cell_type": "code",
   "execution_count": null,
   "id": "bddb21f6",
   "metadata": {},
   "outputs": [],
   "source": []
  },
  {
   "cell_type": "markdown",
   "id": "c02ad317",
   "metadata": {},
   "source": [
    "### 4.8 `Utilities`"
   ]
  },
  {
   "cell_type": "code",
   "execution_count": 26,
   "id": "8cd515f2",
   "metadata": {},
   "outputs": [
    {
     "name": "stdout",
     "output_type": "stream",
     "text": [
      "Help on function image_grid in module src.Utilities:\n",
      "\n",
      "image_grid(images: Iterable[PIL.Image.Image], columns: int = 5, titles: Optional[Iterable] = None) -> matplotlib.figure.Figure\n",
      "    Return a figure holding the images arranged in a grid\n",
      "    \n",
      "    Optionally the number of columns and/or image titles can be provided.\n",
      "    \n",
      "    Example:\n",
      "    \n",
      "         >>> image_grid(images)\n",
      "         >>> image_grid(images, titles=[....])\n",
      "\n"
     ]
    }
   ],
   "source": [
    "help(image_grid)"
   ]
  },
  {
   "cell_type": "markdown",
   "id": "ba5b93ca",
   "metadata": {},
   "source": []
  },
  {
   "cell_type": "code",
   "execution_count": null,
   "id": "5cc7af6e",
   "metadata": {},
   "outputs": [],
   "source": []
  },
  {
   "cell_type": "markdown",
   "id": "fda33452",
   "metadata": {},
   "source": [
    "## 5. Démonstration\n"
   ]
  },
  {
   "cell_type": "markdown",
   "id": "27205161",
   "metadata": {},
   "source": [
    "### 5.1 Entrainement"
   ]
  },
  {
   "cell_type": "code",
   "execution_count": 27,
   "id": "b5578932",
   "metadata": {},
   "outputs": [],
   "source": [
    "import matplotlib.pyplot as plt\n",
    "import matplotlib.axes as axes\n",
    "epochs = 1201"
   ]
  },
  {
   "cell_type": "markdown",
   "id": "29b6ec51",
   "metadata": {},
   "source": [
    "#### 5.1.1 Entrainement et test sur les memes mini_batch"
   ]
  },
  {
   "cell_type": "code",
   "execution_count": 28,
   "id": "6f18edc1",
   "metadata": {},
   "outputs": [],
   "source": [
    "SCE = SoftmaxCrossEntropyLoss()\n",
    "layers = [DenseActivatedLayer(112, 784, ReLu), OutputLayer(16, 112, SCE)]\n",
    "nn = NeuralNetwork(layers)"
   ]
  },
  {
   "cell_type": "code",
   "execution_count": 29,
   "id": "8fe16e06",
   "metadata": {
    "scrolled": true
   },
   "outputs": [
    {
     "name": "stdout",
     "output_type": "stream",
     "text": [
      "Iteration:    0 | Accuracy: 7.8125 %\n",
      "Iteration:   20 | Accuracy: 48.4375 %\n",
      "Iteration:   40 | Accuracy: 64.0625 %\n",
      "Iteration:   60 | Accuracy: 67.1875 %\n",
      "Iteration:   80 | Accuracy: 76.5625 %\n",
      "Iteration:  100 | Accuracy: 76.5625 %\n",
      "Iteration:  120 | Accuracy: 79.6875 %\n",
      "Iteration:  140 | Accuracy: 89.0625 %\n",
      "Iteration:  160 | Accuracy: 75.0 %\n",
      "Iteration:  180 | Accuracy: 78.125 %\n",
      "Iteration:  200 | Accuracy: 79.6875 %\n",
      "Iteration:  220 | Accuracy: 89.0625 %\n",
      "Iteration:  240 | Accuracy: 87.5 %\n",
      "Iteration:  260 | Accuracy: 84.375 %\n",
      "Iteration:  280 | Accuracy: 89.0625 %\n",
      "Iteration:  300 | Accuracy: 89.0625 %\n",
      "Iteration:  320 | Accuracy: 85.9375 %\n",
      "Iteration:  340 | Accuracy: 90.625 %\n",
      "Iteration:  360 | Accuracy: 85.9375 %\n",
      "Iteration:  380 | Accuracy: 92.1875 %\n",
      "Iteration:  400 | Accuracy: 92.1875 %\n",
      "Iteration:  420 | Accuracy: 84.375 %\n",
      "Iteration:  440 | Accuracy: 87.5 %\n",
      "Iteration:  460 | Accuracy: 81.25 %\n",
      "Iteration:  480 | Accuracy: 89.0625 %\n",
      "Iteration:  500 | Accuracy: 90.625 %\n",
      "Iteration:  520 | Accuracy: 92.1875 %\n",
      "Iteration:  540 | Accuracy: 82.8125 %\n",
      "Iteration:  560 | Accuracy: 93.75 %\n",
      "Iteration:  580 | Accuracy: 95.3125 %\n",
      "Iteration:  600 | Accuracy: 89.0625 %\n",
      "Iteration:  620 | Accuracy: 92.1875 %\n",
      "Iteration:  640 | Accuracy: 92.1875 %\n",
      "Iteration:  660 | Accuracy: 87.5 %\n",
      "Iteration:  680 | Accuracy: 98.4375 %\n",
      "Iteration:  700 | Accuracy: 95.3125 %\n",
      "Iteration:  720 | Accuracy: 92.1875 %\n",
      "Iteration:  740 | Accuracy: 90.625 %\n",
      "Iteration:  760 | Accuracy: 92.1875 %\n",
      "Iteration:  780 | Accuracy: 92.1875 %\n",
      "Iteration:  800 | Accuracy: 95.3125 %\n",
      "Iteration:  820 | Accuracy: 95.3125 %\n",
      "Iteration:  840 | Accuracy: 95.3125 %\n",
      "Iteration:  860 | Accuracy: 87.5 %\n",
      "Iteration:  880 | Accuracy: 92.1875 %\n",
      "Iteration:  900 | Accuracy: 96.875 %\n",
      "Iteration:  920 | Accuracy: 92.1875 %\n",
      "Iteration:  940 | Accuracy: 93.75 %\n",
      "Iteration:  960 | Accuracy: 96.875 %\n",
      "Iteration:  980 | Accuracy: 93.75 %\n",
      "Iteration: 1000 | Accuracy: 92.1875 %\n",
      "Iteration: 1020 | Accuracy: 96.875 %\n",
      "Iteration: 1040 | Accuracy: 98.4375 %\n",
      "Iteration: 1060 | Accuracy: 95.3125 %\n",
      "Iteration: 1080 | Accuracy: 92.1875 %\n",
      "Iteration: 1100 | Accuracy: 96.875 %\n",
      "Iteration: 1120 | Accuracy: 98.4375 %\n",
      "Iteration: 1140 | Accuracy: 95.3125 %\n",
      "Iteration: 1160 | Accuracy: 95.3125 %\n",
      "Iteration: 1180 | Accuracy: 92.1875 %\n",
      "Iteration: 1200 | Accuracy: 95.3125 %\n",
      "CPU times: total: 2min 7s\n",
      "Wall time: 1min 56s\n"
     ]
    }
   ],
   "source": [
    "%%time\n",
    "accuracies1, costs1 = train_on_subset(nn, \"./EMNIST_DATA_SET/\",\n",
    "                                      epochs=epochs, batch_size=64, equilibrium=True,\n",
    "                                      lr=1, test_on_all=False, iter_test=20)"
   ]
  },
  {
   "cell_type": "code",
   "execution_count": 30,
   "id": "f0e729ab",
   "metadata": {},
   "outputs": [
    {
     "data": {
      "image/png": "[encoded data removed]",
      "text/plain": [
       "<Figure size 432x288 with 1 Axes>"
      ]
     },
     "metadata": {
      "needs_background": "light"
     },
     "output_type": "display_data"
    }
   ],
   "source": [
    "plt.scatter(list(range(epochs+1)), accuracies1, s=0.5, color=\"blue\")#s=1\n",
    "yticks = [str(i)+\" %\" for i in range(0,101,10)]\n",
    "plt.yticks(list(range(0,101,10)), yticks)\n",
    "plt.scatter([0],[100], s=0.000001)\n",
    "plt.plot([0,1202],[90,90], color=\"green\")\n",
    "plt.rcParams[\"figure.figsize\"] = (20,10)\n",
    "plt.show()"
   ]
  },
  {
   "cell_type": "code",
   "execution_count": 31,
   "id": "9903d922",
   "metadata": {},
   "outputs": [
    {
     "data": {
      "image/png": "[encoded data removed]",
      "text/plain": [
       "<Figure size 1440x720 with 1 Axes>"
      ]
     },
     "metadata": {
      "needs_background": "light"
     },
     "output_type": "display_data"
    }
   ],
   "source": [
    "accuracies1_late = np.array(accuracies1[600:])\n",
    "plt.hist(accuracies1_late, bins=np.arange(accuracies1_late.min(), accuracies1_late.max()+1))\n",
    "plt.rcParams[\"figure.figsize\"] = (20,10)\n",
    "plt.show()"
   ]
  },
  {
   "cell_type": "code",
   "execution_count": 32,
   "id": "18a02d15",
   "metadata": {},
   "outputs": [
    {
     "ename": "AttributeError",
     "evalue": "'numpy.ndarray' object has no attribute 'describe'",
     "output_type": "error",
     "traceback": [
      "\u001b[1;31m---------------------------------------------------------------------------\u001b[0m",
      "\u001b[1;31mAttributeError\u001b[0m                            Traceback (most recent call last)",
      "Input \u001b[1;32mIn [32]\u001b[0m, in \u001b[0;36m<cell line: 1>\u001b[1;34m()\u001b[0m\n\u001b[1;32m----> 1\u001b[0m \u001b[43maccuracies1_late\u001b[49m\u001b[38;5;241;43m.\u001b[39;49m\u001b[43mdescribe\u001b[49m()\n",
      "\u001b[1;31mAttributeError\u001b[0m: 'numpy.ndarray' object has no attribute 'describe'"
     ]
    }
   ],
   "source": [
    "accuracies1_late.describe()"
   ]
  },
  {
   "cell_type": "code",
   "execution_count": null,
   "id": "646cf79a",
   "metadata": {},
   "outputs": [],
   "source": [
    "plt.scatter(list(range(epochs)), costs1, color=\"red\", s=2)\n",
    "plt.show()"
   ]
  },
  {
   "cell_type": "code",
   "execution_count": null,
   "id": "edee5e46",
   "metadata": {},
   "outputs": [],
   "source": [
    "#del nn, layers"
   ]
  },
  {
   "cell_type": "markdown",
   "id": "adee07a9",
   "metadata": {},
   "source": [
    "#### 5.1.2 Entrainement sur mini_batch , test sur tout le data set"
   ]
  },
  {
   "cell_type": "code",
   "execution_count": null,
   "id": "03bb6f66",
   "metadata": {},
   "outputs": [],
   "source": [
    "SCE2 = SoftmaxCrossEntropyLoss()\n",
    "layers2 = [DenseActivatedLayer(112, 784, ReLu), OutputLayer(16, 112, SCE2)]\n",
    "nn2 = NeuralNetwork(layers2)"
   ]
  },
  {
   "cell_type": "code",
   "execution_count": null,
   "id": "20919d29",
   "metadata": {
    "scrolled": true
   },
   "outputs": [],
   "source": [
    "%%time\n",
    "accuracies2, costs2 = train_on_subset(nn2, \"./EMNIST_DATA_SET/\", epochs=epochs, \n",
    "                                      batch_size=64, equilibrium=True, lr=1, \n",
    "                                      test_on_all=True, iter_test=20)"
   ]
  },
  {
   "cell_type": "code",
   "execution_count": null,
   "id": "0e79e68d",
   "metadata": {},
   "outputs": [],
   "source": [
    "#print(len(range(0,epochs,20)))\n",
    "plt.plot(list(range(0, epochs+20, 20)), accuracies2)#s=1\n",
    "yticks = [str(i)+\" %\" for i in range(0,101,10)]\n",
    "plt.yticks(list(range(0,101,10)), yticks)\n",
    "plt.scatter([0],[100], s=0.000001)\n",
    "plt.plot([0,epochs+1],[90,90], color=\"red\")\n",
    "plt.rcParams[\"figure.figsize\"] = (20,15)\n",
    "plt.show()"
   ]
  },
  {
   "cell_type": "code",
   "execution_count": null,
   "id": "2b6b78f4",
   "metadata": {},
   "outputs": [],
   "source": [
    "plt.plot(list(range(0,epochs, 20)), costs2, color=\"red\")#, s=4\n",
    "plt.rcParams[\"figure.figsize\"] = (20,10)\n",
    "plt.show()"
   ]
  },
  {
   "cell_type": "markdown",
   "id": "2fd4ac17",
   "metadata": {},
   "source": [
    "### 5.2 Exemple concret"
   ]
  },
  {
   "cell_type": "code",
   "execution_count": null,
   "id": "520a140d",
   "metadata": {},
   "outputs": [],
   "source": [
    "batch = make_random_batch(\"./EMNIST_DATA_SET/\", 64, CLASSES, equilibrium=False)\n",
    "imgs = [load_pil_image(f) for f in batch]\n",
    "l = image_grid(imgs, titles=[\" \"]*len(batch))\n",
    "l"
   ]
  },
  {
   "cell_type": "code",
   "execution_count": null,
   "id": "3379c7fb",
   "metadata": {},
   "outputs": [],
   "source": [
    "res = []\n",
    "for i in range(len(batch)): \n",
    "    x, im = load_prediction_image(batch[i])\n",
    "    p = nn.forward(x)\n",
    "    res.append(predicted_labels(p)[0])\n",
    "image_grid(imgs, titles=res)\n",
    "#print(res)"
   ]
  },
  {
   "cell_type": "markdown",
   "id": "4d17b905",
   "metadata": {},
   "source": [
    "sauvegarde du models"
   ]
  },
  {
   "cell_type": "code",
   "execution_count": null,
   "id": "3f31ad32",
   "metadata": {},
   "outputs": [],
   "source": [
    "import pickle\n"
   ]
  },
  {
   "cell_type": "markdown",
   "id": "6bad8504",
   "metadata": {},
   "source": [
    "## 6. Applications"
   ]
  },
  {
   "cell_type": "markdown",
   "id": "09ed26f6",
   "metadata": {},
   "source": [
    "68 74 74 70 73 3A 2F 2F 79 6F 75 74 75 2E 62 65 2F 64 51 77 34 77 39 57 67 58 63 51 3F 74 3D 34 32\n",
    "\n",
    "https://youtu.be/dQw4w9WgXcQ?t=42"
   ]
  },
  {
   "cell_type": "code",
   "execution_count": null,
   "id": "88dcaf8b",
   "metadata": {},
   "outputs": [],
   "source": []
  },
  {
   "cell_type": "code",
   "execution_count": null,
   "id": "f0d45d17",
   "metadata": {},
   "outputs": [],
   "source": []
  },
  {
   "cell_type": "code",
   "execution_count": null,
   "id": "050e1662",
   "metadata": {},
   "outputs": [],
   "source": []
  },
  {
   "cell_type": "code",
   "execution_count": null,
   "id": "4b92bd2b",
   "metadata": {},
   "outputs": [],
   "source": []
  },
  {
   "cell_type": "markdown",
   "id": "c941394c",
   "metadata": {},
   "source": [
    "## 7.Ouverture et extensions possibles"
   ]
  },
  {
   "cell_type": "code",
   "execution_count": null,
   "id": "3837165f",
   "metadata": {},
   "outputs": [],
   "source": []
  },
  {
   "cell_type": "code",
   "execution_count": null,
   "id": "d465a539",
   "metadata": {},
   "outputs": [],
   "source": []
  },
  {
   "cell_type": "markdown",
   "id": "bddf2efe",
   "metadata": {},
   "source": [
    "Utile mais pas encore note"
   ]
  },
  {
   "cell_type": "code",
   "execution_count": null,
   "id": "def2cf24",
   "metadata": {},
   "outputs": [],
   "source": [
    "print(inspect.getsource(load_pil_image))"
   ]
  }
 ],
 "metadata": {
  "kernelspec": {
   "display_name": "Python 3 (ipykernel)",
   "language": "python",
   "name": "python3"
  },
  "language_info": {
   "codemirror_mode": {
    "name": "ipython",
    "version": 3
   },
   "file_extension": ".py",
   "mimetype": "text/x-python",
   "name": "python",
   "nbconvert_exporter": "python",
   "pygments_lexer": "ipython3",
   "version": "3.9.7"
  }
 },
 "nbformat": 4,
 "nbformat_minor": 5
}
